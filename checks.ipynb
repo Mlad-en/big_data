{
 "cells": [
  {
   "cell_type": "code",
   "execution_count": 1,
   "id": "initial_id",
   "metadata": {
    "collapsed": true,
    "ExecuteTime": {
     "end_time": "2024-02-29T23:50:00.824510Z",
     "start_time": "2024-02-29T23:50:00.588451Z"
    }
   },
   "outputs": [],
   "source": [
    "from readers.readers import SparkData, DuckData"
   ]
  },
  {
   "cell_type": "code",
   "outputs": [
    {
     "name": "stderr",
     "output_type": "stream",
     "text": [
      "Setting default log level to \"WARN\".\n",
      "To adjust logging level use sc.setLogLevel(newLevel). For SparkR, use setLogLevel(newLevel).\n",
      "24/03/01 00:50:03 WARN NativeCodeLoader: Unable to load native-hadoop library for your platform... using builtin-java classes where applicable\n",
      "24/03/01 00:50:13 WARN SparkStringUtils: Truncated the string representation of a plan since it was too large. This behavior can be adjusted by setting 'spark.sql.debug.maxToStringFields'.\n"
     ]
    }
   ],
   "source": [
    "spark = SparkData()"
   ],
   "metadata": {
    "collapsed": false,
    "ExecuteTime": {
     "end_time": "2024-02-29T23:50:13.476719Z",
     "start_time": "2024-02-29T23:50:01.298268Z"
    }
   },
   "id": "3ee950035e5784d9",
   "execution_count": 2
  },
  {
   "cell_type": "code",
   "outputs": [],
   "source": [
    "duck = DuckData()"
   ],
   "metadata": {
    "collapsed": false,
    "ExecuteTime": {
     "end_time": "2024-02-29T23:50:46.907235Z",
     "start_time": "2024-02-29T23:50:43.434684Z"
    }
   },
   "id": "4371136de52abbf8",
   "execution_count": 5
  },
  {
   "cell_type": "code",
   "outputs": [
    {
     "data": {
      "text/plain": "DataFrame[_c0: string, tconst: string, primaryTitle: string, originalTitle: string, startYear: string, endYear: string, runtimeMinutes: string, numVotes: string, label: string]"
     },
     "execution_count": 9,
     "metadata": {},
     "output_type": "execute_result"
    }
   ],
   "source": [
    "spark.train_file_1"
   ],
   "metadata": {
    "collapsed": false,
    "ExecuteTime": {
     "end_time": "2024-02-29T23:54:04.439348Z",
     "start_time": "2024-02-29T23:54:04.430797Z"
    }
   },
   "id": "48885a415f427382",
   "execution_count": 9
  },
  {
   "cell_type": "code",
   "outputs": [
    {
     "data": {
      "text/plain": "┌─────────┬───────────┬──────────────────────┬───┬─────────┬────────────────┬──────────┬─────────┐\n│ column0 │  tconst   │     primaryTitle     │ … │ endYear │ runtimeMinutes │ numVotes │  label  │\n│  int64  │  varchar  │       varchar        │   │ varchar │    varchar     │  double  │ boolean │\n├─────────┼───────────┼──────────────────────┼───┼─────────┼────────────────┼──────────┼─────────┤\n│       4 │ tt0010600 │ The Doll             │ … │ \\N      │ 66             │   1898.0 │ true    │\n│       7 │ tt0011841 │ Way Down East        │ … │ \\N      │ 145            │   5376.0 │ true    │\n│       9 │ tt0012494 │ Déstiny              │ … │ \\N      │ 97             │   5842.0 │ true    │\n│      25 │ tt0015163 │ The Navigator        │ … │ \\N      │ 59             │   9652.0 │ true    │\n│      38 │ tt0016220 │ The Phantom of the…  │ … │ \\N      │ 93             │  17887.0 │ true    │\n│      42 │ tt0016630 │ Báttling Bútlér      │ … │ \\N      │ 77             │   3285.0 │ true    │\n│      81 │ tt0021015 │ Juno and the Paycock │ … │ \\N      │ 85             │   2275.0 │ false   │\n│     118 │ tt0023973 │ Thé Éáglé ánd thé …  │ … │ \\N      │ 73             │     NULL │ true    │\n│     119 │ tt0023986 │ Émplớyéés' Éntráncé  │ … │ \\N      │ 75             │     NULL │ true    │\n│     123 │ tt0024184 │ The Invisible Man    │ … │ \\N      │ 71             │  33562.0 │ true    │\n│      ·  │     ·     │   ·                  │ · │ ·       │ ·              │      ·   │  ·      │\n│      ·  │     ·     │   ·                  │ · │ ·       │ ·              │      ·   │  ·      │\n│      ·  │     ·     │   ·                  │ · │ ·       │ ·              │      ·   │  ·      │\n│    9898 │ tt9176086 │ Saina                │ … │ \\N      │ 135            │   3915.0 │ false   │\n│    9912 │ tt9239552 │ Konosuba!: God's B…  │ … │ \\N      │ 90             │   3072.0 │ true    │\n│    9913 │ tt9243946 │ El Camino: A Break…  │ … │ \\N      │ 122            │ 210566.0 │ true    │\n│    9937 │ tt9412098 │ Fyre                 │ … │ \\N      │ 97             │  41243.0 │ true    │\n│    9945 │ tt9448332 │ Ishq                 │ … │ \\N      │ 134            │     NULL │ true    │\n│    9955 │ tt9558612 │ PM Náréndrá Mớdi     │ … │ \\N      │ 136            │   7005.0 │ false   │\n│    9960 │ tt9598172 │ Sáving Léningrád     │ … │ \\N      │ 96             │   2200.0 │ false   │\n│    9977 │ tt9691136 │ Shadow in the Cloud  │ … │ \\N      │ 83             │  22617.0 │ false   │\n│    9979 │ tt9695258 │ So My Grandma's a …  │ … │ \\N      │ 94             │   1054.0 │ false   │\n│    9994 │ tt9849004 │ Happily              │ … │ \\N      │ 96             │     NULL │ false   │\n├─────────┴───────────┴──────────────────────┴───┴─────────┴────────────────┴──────────┴─────────┤\n│ 963 rows (20 shown)                                                        9 columns (7 shown) │\n└────────────────────────────────────────────────────────────────────────────────────────────────┘"
     },
     "execution_count": 6,
     "metadata": {},
     "output_type": "execute_result"
    }
   ],
   "source": [
    "duck.train_file_1"
   ],
   "metadata": {
    "collapsed": false,
    "ExecuteTime": {
     "end_time": "2024-02-29T23:50:49.238260Z",
     "start_time": "2024-02-29T23:50:49.223027Z"
    }
   },
   "id": "9da215b4dd9ce2ac",
   "execution_count": 6
  },
  {
   "cell_type": "code",
   "outputs": [],
   "source": [],
   "metadata": {
    "collapsed": false
   },
   "id": "6508a1082117b548"
  }
 ],
 "metadata": {
  "kernelspec": {
   "display_name": "Python 3",
   "language": "python",
   "name": "python3"
  },
  "language_info": {
   "codemirror_mode": {
    "name": "ipython",
    "version": 2
   },
   "file_extension": ".py",
   "mimetype": "text/x-python",
   "name": "python",
   "nbconvert_exporter": "python",
   "pygments_lexer": "ipython2",
   "version": "2.7.6"
  }
 },
 "nbformat": 4,
 "nbformat_minor": 5
}

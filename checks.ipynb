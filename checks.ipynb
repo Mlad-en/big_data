{
 "cells": [
  {
   "cell_type": "code",
   "execution_count": 11,
   "id": "initial_id",
   "metadata": {
    "collapsed": true,
    "ExecuteTime": {
     "end_time": "2024-03-05T15:37:43.413079Z",
     "start_time": "2024-03-05T15:37:43.409010Z"
    }
   },
   "outputs": [],
   "source": [
    "from readers.readers import DuckData\n",
    "import duckdb"
   ]
  },
  {
   "cell_type": "code",
   "outputs": [],
   "source": [
    "duck = DuckData()"
   ],
   "metadata": {
    "collapsed": false,
    "ExecuteTime": {
     "end_time": "2024-03-05T15:37:43.976712Z",
     "start_time": "2024-03-05T15:37:43.947213Z"
    }
   },
   "id": "4371136de52abbf8",
   "execution_count": 12
  },
  {
   "cell_type": "code",
   "outputs": [],
   "source": [
    "dt = duck.all_training_data"
   ],
   "metadata": {
    "collapsed": false,
    "ExecuteTime": {
     "end_time": "2024-03-05T15:37:44.872391Z",
     "start_time": "2024-03-05T15:37:44.866798Z"
    }
   },
   "id": "abab57c37722c27e",
   "execution_count": 13
  },
  {
   "cell_type": "code",
   "outputs": [
    {
     "data": {
      "text/plain": "┌───────┬───────────┬────────────────────┬───────────────┬───┬─────────┬───────────┬───────────┬─────────┬────────────┐\n│ index │  tconst   │    primaryTitle    │ originalTitle │ … │  label  │   movie   │  writer   │ index_1 │  director  │\n│ int64 │  varchar  │      varchar       │    varchar    │   │ boolean │  varchar  │  varchar  │  int64  │  varchar   │\n├───────┼───────────┼────────────────────┼───────────────┼───┼─────────┼───────────┼───────────┼─────────┼────────────┤\n│     2 │ tt0009369 │ Mickey             │ Mickey        │ … │ false   │ tt0009369 │ nm0215874 │       3 │ nm0949648  │\n│     2 │ tt0009369 │ Mickey             │ Mickey        │ … │ false   │ tt0009369 │ nm0370271 │       3 │ nm0949648  │\n│     4 │ tt0010600 │ The Doll           │ Die Puppe     │ … │ true    │ tt0010600 │ nm0006782 │       5 │ nm0523932  │\n│     4 │ tt0010600 │ The Doll           │ Die Puppe     │ … │ true    │ tt0010600 │ nm0473134 │       5 │ nm0523932  │\n│     4 │ tt0010600 │ The Doll           │ Die Puppe     │ … │ true    │ tt0010600 │ nm0523932 │       5 │ nm0523932  │\n│     4 │ tt0010600 │ The Doll           │ Die Puppe     │ … │ true    │ tt0010600 │ nm0932559 │       5 │ nm0523932  │\n│     6 │ tt0011607 │ The Parson's Widow │ Prästänkan    │ … │ true    │ tt0011607 │ nm0003433 │       7 │ nm0003433  │\n│     6 │ tt0011607 │ The Parson's Widow │ Prästänkan    │ … │ true    │ tt0011607 │ nm0418114 │       7 │ nm0003433  │\n│     7 │ tt0011841 │ Way Down East      │ Way Down East │ … │ true    │ tt0011841 │ nm0662461 │       8 │ nm0000428  │\n│     7 │ tt0011841 │ Way Down East      │ Way Down East │ … │ true    │ tt0011841 │ nm0103755 │       8 │ nm0000428  │\n│     · │     ·     │       ·            │  ·            │ · │  ·      │     ·     │     ·     │       · │     ·      │\n│     · │     ·     │       ·            │  ·            │ · │  ·      │     ·     │     ·     │       · │     ·      │\n│     · │     ·     │       ·            │  ·            │ · │  ·      │     ·     │     ·     │       · │     ·      │\n│  4899 │ tt0439615 │ Horrors of War     │ NULL          │ … │ false   │ tt0439615 │ nm0817387 │    5390 │ nm0743748  │\n│  4900 │ tt0439714 │ Múmbái Éxpréss     │ NULL          │ … │ false   │ tt0439714 │ nm0352032 │    5392 │ nm0801870  │\n│  4909 │ tt0441773 │ Kung Fu Panda      │ Kung Fu Panda │ … │ true    │ tt0441773 │ nm0008743 │    5402 │ nm0828970  │\n│  4909 │ tt0441773 │ Kung Fu Panda      │ Kung Fu Panda │ … │ true    │ tt0441773 │ nm0074184 │    5402 │ nm0828970  │\n│  4909 │ tt0441773 │ Kung Fu Panda      │ Kung Fu Panda │ … │ true    │ tt0441773 │ nm0717550 │    5402 │ nm0828970  │\n│  4909 │ tt0441773 │ Kung Fu Panda      │ Kung Fu Panda │ … │ true    │ tt0441773 │ nm0903456 │    5402 │ nm0828970  │\n│  4909 │ tt0441773 │ Kung Fu Panda      │ Kung Fu Panda │ … │ true    │ tt0441773 │ nm1938852 │    5402 │ nm0828970  │\n│  4918 │ tt0443708 │ Page 3             │ NULL          │ … │ true    │ tt0443708 │ nm1823317 │    5413 │ nm11370415 │\n│  4918 │ tt0443708 │ Page 3             │ NULL          │ … │ true    │ tt0443708 │ nm1055105 │    5413 │ nm11370415 │\n│  4918 │ tt0443708 │ Page 3             │ NULL          │ … │ true    │ tt0443708 │ nm1821635 │    5413 │ nm11370415 │\n├───────┴───────────┴────────────────────┴───────────────┴───┴─────────┴───────────┴───────────┴─────────┴────────────┤\n│ ? rows (>9999 rows, 20 shown)                                                                  13 columns (9 shown) │\n└─────────────────────────────────────────────────────────────────────────────────────────────────────────────────────┘"
     },
     "execution_count": 15,
     "metadata": {},
     "output_type": "execute_result"
    }
   ],
   "source": [
    "duckdb.query(\"from dt\")"
   ],
   "metadata": {
    "collapsed": false,
    "ExecuteTime": {
     "end_time": "2024-03-05T15:38:01.105491Z",
     "start_time": "2024-03-05T15:38:01.032135Z"
    }
   },
   "id": "d524eab4a0fbe81f",
   "execution_count": 15
  },
  {
   "cell_type": "code",
   "outputs": [],
   "source": [],
   "metadata": {
    "collapsed": false
   },
   "id": "9f590851453f8568"
  }
 ],
 "metadata": {
  "kernelspec": {
   "display_name": "Python 3",
   "language": "python",
   "name": "python3"
  },
  "language_info": {
   "codemirror_mode": {
    "name": "ipython",
    "version": 2
   },
   "file_extension": ".py",
   "mimetype": "text/x-python",
   "name": "python",
   "nbconvert_exporter": "python",
   "pygments_lexer": "ipython2",
   "version": "2.7.6"
  }
 },
 "nbformat": 4,
 "nbformat_minor": 5
}

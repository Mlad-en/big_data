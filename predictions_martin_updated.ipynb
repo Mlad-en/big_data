{
 "cells": [
  {
   "cell_type": "code",
   "execution_count": 45,
   "id": "initial_id",
   "metadata": {
    "collapsed": true,
    "ExecuteTime": {
     "end_time": "2024-03-05T16:36:48.969941Z",
     "start_time": "2024-03-05T16:36:48.959Z"
    }
   },
   "outputs": [],
   "source": [
    "from readers.readers import DuckData\n",
    "from unidecode import unidecode\n",
    "from duckdb.typing import *\n",
    "from sklearn.model_selection import train_test_split\n",
    "from sklearn.ensemble import AdaBoostClassifier, RandomForestClassifier\n",
    "from sklearn.linear_model import LogisticRegression\n",
    "from sklearn.svm import SVC\n",
    "from sklearn.tree import DecisionTreeClassifier\n",
    "from sklearn.neighbors import KNeighborsClassifier\n",
    "from sklearn.pipeline import make_pipeline\n",
    "from sklearn.preprocessing import StandardScaler\n",
    "from sklearn.impute import SimpleImputer\n",
    "import numpy as np\n",
    "import pandas as pd\n",
    "from pathlib import Path"
   ]
  },
  {
   "cell_type": "markdown",
   "source": [
    "# 1. Convert to parquet for faster handling with DuckDb"
   ],
   "metadata": {
    "collapsed": false
   },
   "id": "8b9e5dbe8da11828"
  },
  {
   "cell_type": "code",
   "outputs": [],
   "source": [
    "duck = DuckData()\n",
    "all_training_data = duck.all_training_data"
   ],
   "metadata": {
    "collapsed": false,
    "ExecuteTime": {
     "end_time": "2024-03-05T16:19:39.308383Z",
     "start_time": "2024-03-05T16:19:39.265317Z"
    }
   },
   "id": "28e85f6578bfc070",
   "execution_count": 2
  },
  {
   "cell_type": "markdown",
   "source": [],
   "metadata": {
    "collapsed": false
   },
   "id": "8ad21d919a0f316c"
  },
  {
   "cell_type": "markdown",
   "source": [
    "# 2. Cleaning"
   ],
   "metadata": {
    "collapsed": false
   },
   "id": "ae603de100e23ced"
  },
  {
   "cell_type": "code",
   "execution_count": 3,
   "outputs": [
    {
     "data": {
      "text/plain": "<duckdb.duckdb.DuckDBPyConnection at 0x13ffbe9b0>"
     },
     "execution_count": 3,
     "metadata": {},
     "output_type": "execute_result"
    }
   ],
   "source": [
    "# enable automatic query parallelization\n",
    "duck.conn.execute(\"PRAGMA threads=2\")\n",
    "# enable caching of parquet metadata\n",
    "duck.conn.execute(\"PRAGMA enable_object_cache\")"
   ],
   "metadata": {
    "collapsed": false,
    "ExecuteTime": {
     "end_time": "2024-03-05T16:19:42.471014Z",
     "start_time": "2024-03-05T16:19:42.442241Z"
    }
   },
   "id": "a091f202763c0774"
  },
  {
   "cell_type": "code",
   "execution_count": 4,
   "outputs": [],
   "source": [
    "def convert_to_ascii(input_string):\n",
    "    return unidecode(input_string)"
   ],
   "metadata": {
    "collapsed": false,
    "ExecuteTime": {
     "end_time": "2024-03-05T16:19:45.253489Z",
     "start_time": "2024-03-05T16:19:45.236623Z"
    }
   },
   "id": "c7c9a1f04a54d28c"
  },
  {
   "cell_type": "code",
   "execution_count": 5,
   "outputs": [
    {
     "data": {
      "text/plain": "<duckdb.duckdb.DuckDBPyConnection at 0x13ffbe9b0>"
     },
     "execution_count": 5,
     "metadata": {},
     "output_type": "execute_result"
    }
   ],
   "source": [
    "duck.conn.create_function('to_ascii', convert_to_ascii, [VARCHAR], VARCHAR)"
   ],
   "metadata": {
    "collapsed": false,
    "ExecuteTime": {
     "end_time": "2024-03-05T16:19:45.888906Z",
     "start_time": "2024-03-05T16:19:45.880048Z"
    }
   },
   "id": "4d7d0228a836d0dd"
  },
  {
   "cell_type": "code",
   "outputs": [],
   "source": [
    "clean_data = duck.conn.query(\n",
    "    \"\"\"\n",
    "    select \n",
    "            try_cast(tconst as varchar) as tconst\n",
    "            , try_cast(primaryTitle as varchar) as primaryTitle\n",
    "            , try_cast(originalTitle as varchar) as originalTitle\n",
    "            , try_cast(runtimeMinutes as integer) as runtimeMinutes\n",
    "            , try_cast(numVotes as integer) as numVotes\n",
    "            , to_ascii(primaryTitle) as title\n",
    "            , try_cast(startYear as integer) as yearStart, \n",
    "            try_cast(endYear as integer) as yearEnd,\n",
    "            case \n",
    "                when yearStart is not null and yearEnd is null then yearStart\n",
    "                when yearStart is NULL and yearEnd is not NULL then yearEnd\n",
    "                else yearStart\n",
    "                end as year,\n",
    "                label \n",
    "                , case\n",
    "                    when director = '\\\\N' then null\n",
    "                    else try_cast(director as varchar)\n",
    "                    end as director\n",
    "                , case\n",
    "                    when writer = '\\\\N' then null\n",
    "                    else try_cast(writer as varchar)\n",
    "                    end as writer\n",
    "            ,case\n",
    "                when title != originalTitle and originalTitle != '' then True\n",
    "                else False\n",
    "            end as foreign_movie\n",
    "            , case \n",
    "                when label = True then 1\n",
    "                else 0\n",
    "                end as label_int\n",
    "        from all_training_data\n",
    "    \"\"\"\n",
    ")"
   ],
   "metadata": {
    "collapsed": false,
    "ExecuteTime": {
     "end_time": "2024-03-05T16:19:46.859784Z",
     "start_time": "2024-03-05T16:19:46.850984Z"
    }
   },
   "id": "3461a9ebce65dbfe",
   "execution_count": 6
  },
  {
   "cell_type": "code",
   "outputs": [],
   "source": [
    "director_rating = duck.conn.query( \n",
    "        \"\"\"\n",
    "        select \n",
    "            director, \n",
    "            count(distinct tconst) as n_successes_dir\n",
    "        from clean_data\n",
    "        where label=True\n",
    "        group by director\n",
    "        \"\"\"\n",
    "    )"
   ],
   "metadata": {
    "collapsed": false,
    "ExecuteTime": {
     "end_time": "2024-03-05T16:19:47.760069Z",
     "start_time": "2024-03-05T16:19:47.756016Z"
    }
   },
   "id": "12c99281b1325364",
   "execution_count": 7
  },
  {
   "cell_type": "code",
   "outputs": [],
   "source": [
    "writer_rating  = duck.conn.query(\n",
    "       \"\"\"\n",
    "        select writer, \n",
    "        count(distinct tconst) as n_successes_wri\n",
    "        from clean_data\n",
    "        where label=True\n",
    "        group by writer\n",
    "       \"\"\"\n",
    "    )"
   ],
   "metadata": {
    "collapsed": false,
    "ExecuteTime": {
     "end_time": "2024-03-05T16:19:48.422935Z",
     "start_time": "2024-03-05T16:19:48.398031Z"
    }
   },
   "id": "c50e636627ceefef",
   "execution_count": 8
  },
  {
   "cell_type": "code",
   "execution_count": 9,
   "outputs": [],
   "source": [
    "aggregated = duck.conn.query(\n",
    "    \"\"\" \n",
    "    select \n",
    "        tconst\n",
    "        ,title \n",
    "        ,year\n",
    "        , foreign_movie\n",
    "        , runtimeMinutes\n",
    "        , numVotes\n",
    "        ,listagg(distinct clean_data.director, ', ') as directors\n",
    "        ,listagg(distinct clean_data.writer, ', ') as writers\n",
    "        ,len(directors) as n_directors\n",
    "        ,len(writers) as n_writers\n",
    "        , len(title) as title_length\n",
    "        ,label\n",
    "        , sum(n_successes_dir) as n_successes_dir\n",
    "        , sum(n_successes_wri) as n_successes_wri\n",
    "    from clean_data\n",
    "    left outer join director_rating on clean_data.director = director_rating.director\n",
    "    left outer join writer_rating on clean_data.writer = writer_rating.writer\n",
    "    group by tconst, title, year, foreign_movie, label, runtimeMinutes, numVotes \n",
    "\"\"\"\n",
    ")"
   ],
   "metadata": {
    "collapsed": false,
    "ExecuteTime": {
     "end_time": "2024-03-05T16:19:49.894062Z",
     "start_time": "2024-03-05T16:19:49.875392Z"
    }
   },
   "id": "7c25974ee875928e"
  },
  {
   "cell_type": "code",
   "execution_count": 10,
   "outputs": [
    {
     "data": {
      "text/plain": "         tconst                      title  year  foreign_movie  \\\n0     tt0010600                   The Doll  1919           True   \n1     tt0011607         The Parson's Widow  1920           True   \n2     tt0014109  The Saga of Gosta Berling  1924          False   \n3     tt0014358                The Pilgrim  1923          False   \n4     tt0014945                   Girl Shy  1924          False   \n...         ...                        ...   ...            ...   \n7954  tt6774212                    Aiyaary  2018          False   \n7955  tt6067752                    Lucifer  2019          False   \n7956  tt6472976            Five Feet Apart  2019          False   \n7957  tt0041386           The Fountainhead  1949          False   \n7958  tt7098658                      Raazi  2018          False   \n\n      runtimeMinutes  numVotes             directors  \\\n0               66.0    1898.0             nm0523932   \n1               94.0    1264.0             nm0003433   \n2              183.0    1231.0             nm0830249   \n3               47.0    4891.0             nm0000122   \n4               87.0    3327.0  nm0628345, nm0853130   \n...              ...       ...                   ...   \n7954           157.0    4552.0             nm3109770   \n7955           175.0    9086.0             nm1335387   \n7956           116.0   57187.0             nm1682573   \n7957           114.0       NaN             nm0896542   \n7958           138.0   28537.0             nm1126068   \n\n                                                writers  n_directors  \\\n0            nm0006782, nm0523932, nm0932559, nm0473134          9.0   \n1                                  nm0418114, nm0003433          9.0   \n2                       nm0481248, nm0405147, nm0830249          9.0   \n3                                             nm0000122          9.0   \n4     nm0928514, nm0924065, nm0516001, nm0853130, nm...         20.0   \n...                                                 ...          ...   \n7954                                          nm3109770          9.0   \n7955                                          nm1729382          9.0   \n7956                               nm3037068, nm5657522          9.0   \n7957                                          nm0709446          9.0   \n7958                    nm7415589, nm1818188, nm1126068          9.0   \n\n      n_writers  title_length  label  n_successes_dir  n_successes_wri  \n0          42.0             8   True             32.0              7.0  \n1          20.0            18   True              6.0              4.0  \n2          31.0            25   True              3.0              3.0  \n3           9.0            11   True              6.0              7.0  \n4          53.0             8   True             30.0             26.0  \n...         ...           ...    ...              ...              ...  \n7954        9.0             7  False              NaN              1.0  \n7955        9.0             7   True              1.0              1.0  \n7956       20.0            15   True              4.0              2.0  \n7957        9.0            16   True              7.0              2.0  \n7958       31.0             5   True              6.0              6.0  \n\n[7959 rows x 14 columns]",
      "text/html": "<div>\n<style scoped>\n    .dataframe tbody tr th:only-of-type {\n        vertical-align: middle;\n    }\n\n    .dataframe tbody tr th {\n        vertical-align: top;\n    }\n\n    .dataframe thead th {\n        text-align: right;\n    }\n</style>\n<table border=\"1\" class=\"dataframe\">\n  <thead>\n    <tr style=\"text-align: right;\">\n      <th></th>\n      <th>tconst</th>\n      <th>title</th>\n      <th>year</th>\n      <th>foreign_movie</th>\n      <th>runtimeMinutes</th>\n      <th>numVotes</th>\n      <th>directors</th>\n      <th>writers</th>\n      <th>n_directors</th>\n      <th>n_writers</th>\n      <th>title_length</th>\n      <th>label</th>\n      <th>n_successes_dir</th>\n      <th>n_successes_wri</th>\n    </tr>\n  </thead>\n  <tbody>\n    <tr>\n      <th>0</th>\n      <td>tt0010600</td>\n      <td>The Doll</td>\n      <td>1919</td>\n      <td>True</td>\n      <td>66.0</td>\n      <td>1898.0</td>\n      <td>nm0523932</td>\n      <td>nm0006782, nm0523932, nm0932559, nm0473134</td>\n      <td>9.0</td>\n      <td>42.0</td>\n      <td>8</td>\n      <td>True</td>\n      <td>32.0</td>\n      <td>7.0</td>\n    </tr>\n    <tr>\n      <th>1</th>\n      <td>tt0011607</td>\n      <td>The Parson's Widow</td>\n      <td>1920</td>\n      <td>True</td>\n      <td>94.0</td>\n      <td>1264.0</td>\n      <td>nm0003433</td>\n      <td>nm0418114, nm0003433</td>\n      <td>9.0</td>\n      <td>20.0</td>\n      <td>18</td>\n      <td>True</td>\n      <td>6.0</td>\n      <td>4.0</td>\n    </tr>\n    <tr>\n      <th>2</th>\n      <td>tt0014109</td>\n      <td>The Saga of Gosta Berling</td>\n      <td>1924</td>\n      <td>False</td>\n      <td>183.0</td>\n      <td>1231.0</td>\n      <td>nm0830249</td>\n      <td>nm0481248, nm0405147, nm0830249</td>\n      <td>9.0</td>\n      <td>31.0</td>\n      <td>25</td>\n      <td>True</td>\n      <td>3.0</td>\n      <td>3.0</td>\n    </tr>\n    <tr>\n      <th>3</th>\n      <td>tt0014358</td>\n      <td>The Pilgrim</td>\n      <td>1923</td>\n      <td>False</td>\n      <td>47.0</td>\n      <td>4891.0</td>\n      <td>nm0000122</td>\n      <td>nm0000122</td>\n      <td>9.0</td>\n      <td>9.0</td>\n      <td>11</td>\n      <td>True</td>\n      <td>6.0</td>\n      <td>7.0</td>\n    </tr>\n    <tr>\n      <th>4</th>\n      <td>tt0014945</td>\n      <td>Girl Shy</td>\n      <td>1924</td>\n      <td>False</td>\n      <td>87.0</td>\n      <td>3327.0</td>\n      <td>nm0628345, nm0853130</td>\n      <td>nm0928514, nm0924065, nm0516001, nm0853130, nm...</td>\n      <td>20.0</td>\n      <td>53.0</td>\n      <td>8</td>\n      <td>True</td>\n      <td>30.0</td>\n      <td>26.0</td>\n    </tr>\n    <tr>\n      <th>...</th>\n      <td>...</td>\n      <td>...</td>\n      <td>...</td>\n      <td>...</td>\n      <td>...</td>\n      <td>...</td>\n      <td>...</td>\n      <td>...</td>\n      <td>...</td>\n      <td>...</td>\n      <td>...</td>\n      <td>...</td>\n      <td>...</td>\n      <td>...</td>\n    </tr>\n    <tr>\n      <th>7954</th>\n      <td>tt6774212</td>\n      <td>Aiyaary</td>\n      <td>2018</td>\n      <td>False</td>\n      <td>157.0</td>\n      <td>4552.0</td>\n      <td>nm3109770</td>\n      <td>nm3109770</td>\n      <td>9.0</td>\n      <td>9.0</td>\n      <td>7</td>\n      <td>False</td>\n      <td>NaN</td>\n      <td>1.0</td>\n    </tr>\n    <tr>\n      <th>7955</th>\n      <td>tt6067752</td>\n      <td>Lucifer</td>\n      <td>2019</td>\n      <td>False</td>\n      <td>175.0</td>\n      <td>9086.0</td>\n      <td>nm1335387</td>\n      <td>nm1729382</td>\n      <td>9.0</td>\n      <td>9.0</td>\n      <td>7</td>\n      <td>True</td>\n      <td>1.0</td>\n      <td>1.0</td>\n    </tr>\n    <tr>\n      <th>7956</th>\n      <td>tt6472976</td>\n      <td>Five Feet Apart</td>\n      <td>2019</td>\n      <td>False</td>\n      <td>116.0</td>\n      <td>57187.0</td>\n      <td>nm1682573</td>\n      <td>nm3037068, nm5657522</td>\n      <td>9.0</td>\n      <td>20.0</td>\n      <td>15</td>\n      <td>True</td>\n      <td>4.0</td>\n      <td>2.0</td>\n    </tr>\n    <tr>\n      <th>7957</th>\n      <td>tt0041386</td>\n      <td>The Fountainhead</td>\n      <td>1949</td>\n      <td>False</td>\n      <td>114.0</td>\n      <td>NaN</td>\n      <td>nm0896542</td>\n      <td>nm0709446</td>\n      <td>9.0</td>\n      <td>9.0</td>\n      <td>16</td>\n      <td>True</td>\n      <td>7.0</td>\n      <td>2.0</td>\n    </tr>\n    <tr>\n      <th>7958</th>\n      <td>tt7098658</td>\n      <td>Raazi</td>\n      <td>2018</td>\n      <td>False</td>\n      <td>138.0</td>\n      <td>28537.0</td>\n      <td>nm1126068</td>\n      <td>nm7415589, nm1818188, nm1126068</td>\n      <td>9.0</td>\n      <td>31.0</td>\n      <td>5</td>\n      <td>True</td>\n      <td>6.0</td>\n      <td>6.0</td>\n    </tr>\n  </tbody>\n</table>\n<p>7959 rows × 14 columns</p>\n</div>"
     },
     "execution_count": 10,
     "metadata": {},
     "output_type": "execute_result"
    }
   ],
   "source": [
    "aggregated.df()"
   ],
   "metadata": {
    "collapsed": false,
    "ExecuteTime": {
     "end_time": "2024-03-05T16:19:51.452863Z",
     "start_time": "2024-03-05T16:19:51.150534Z"
    }
   },
   "id": "10bf85656d76224"
  },
  {
   "cell_type": "code",
   "execution_count": 11,
   "outputs": [],
   "source": [
    "non_agg = clean_data.df()"
   ],
   "metadata": {
    "collapsed": false,
    "ExecuteTime": {
     "end_time": "2024-03-05T16:19:52.937233Z",
     "start_time": "2024-03-05T16:19:52.711662Z"
    }
   },
   "id": "b57e639e925bad7f"
  },
  {
   "cell_type": "markdown",
   "source": [
    "# 3. Get train set"
   ],
   "metadata": {
    "collapsed": false
   },
   "id": "e075a98a7226a3a"
  },
  {
   "cell_type": "code",
   "execution_count": 12,
   "outputs": [],
   "source": [
    "train_data = duck.conn.query(\n",
    "    f\"\"\"\n",
    "    select \n",
    "        tconst\n",
    "        , year\n",
    "        , foreign_movie\n",
    "        , runtimeMinutes\n",
    "        , numVotes\n",
    "        , title_length\n",
    "        , label\n",
    "        , case \n",
    "            when n_successes_dir is null then 0\n",
    "            else n_successes_dir\n",
    "            end as n_successes_dir\n",
    "        , case \n",
    "            when n_successes_wri is null then 0\n",
    "            else n_successes_wri\n",
    "            end as n_successes_wri\n",
    "    from aggregated\n",
    "\"\"\"\n",
    ").df()"
   ],
   "metadata": {
    "collapsed": false,
    "ExecuteTime": {
     "end_time": "2024-03-05T16:19:54.370873Z",
     "start_time": "2024-03-05T16:19:54.141456Z"
    }
   },
   "id": "50b12e95090e71a9"
  },
  {
   "cell_type": "code",
   "outputs": [
    {
     "name": "stdout",
     "output_type": "stream",
     "text": [
      "<class 'pandas.core.frame.DataFrame'>\n",
      "RangeIndex: 7959 entries, 0 to 7958\n",
      "Data columns (total 9 columns):\n",
      " #   Column           Non-Null Count  Dtype  \n",
      "---  ------           --------------  -----  \n",
      " 0   tconst           7959 non-null   object \n",
      " 1   year             7959 non-null   int32  \n",
      " 2   foreign_movie    7959 non-null   bool   \n",
      " 3   runtimeMinutes   7946 non-null   float64\n",
      " 4   numVotes         7169 non-null   float64\n",
      " 5   title_length     7959 non-null   int64  \n",
      " 6   label            7959 non-null   bool   \n",
      " 7   n_successes_dir  7959 non-null   float64\n",
      " 8   n_successes_wri  7959 non-null   float64\n",
      "dtypes: bool(2), float64(4), int32(1), int64(1), object(1)\n",
      "memory usage: 419.8+ KB\n"
     ]
    }
   ],
   "source": [
    "train_data.info()"
   ],
   "metadata": {
    "collapsed": false,
    "ExecuteTime": {
     "end_time": "2024-03-05T16:19:55.530257Z",
     "start_time": "2024-03-05T16:19:55.516142Z"
    }
   },
   "id": "b694f5fd8cac6823",
   "execution_count": 13
  },
  {
   "cell_type": "code",
   "execution_count": 14,
   "outputs": [],
   "source": [
    "df_train_data = train_data.dropna()"
   ],
   "metadata": {
    "collapsed": false,
    "ExecuteTime": {
     "end_time": "2024-03-05T16:19:56.548091Z",
     "start_time": "2024-03-05T16:19:56.543969Z"
    }
   },
   "id": "6b6d51294a8e621f"
  },
  {
   "cell_type": "code",
   "execution_count": 15,
   "outputs": [],
   "source": [
    "X = df_train_data.drop(['tconst', 'label'], axis=1).values\n",
    "y = df_train_data.loc[:, 'label'].values"
   ],
   "metadata": {
    "collapsed": false,
    "ExecuteTime": {
     "end_time": "2024-03-05T16:19:57.948909Z",
     "start_time": "2024-03-05T16:19:57.915044Z"
    }
   },
   "id": "a4b1abe4851a6c3a"
  },
  {
   "cell_type": "code",
   "execution_count": 16,
   "outputs": [],
   "source": [
    "X_train, X_test, y_train, y_test = train_test_split(X, y, test_size=0.2, random_state=42)"
   ],
   "metadata": {
    "collapsed": false,
    "ExecuteTime": {
     "end_time": "2024-03-05T16:19:57.971274Z",
     "start_time": "2024-03-05T16:19:57.943148Z"
    }
   },
   "id": "dce9b610c3c727d"
  },
  {
   "cell_type": "code",
   "execution_count": 17,
   "outputs": [],
   "source": [
    "names = [\n",
    "    \"Nearest Neighbors\",\n",
    "    \"Linear SVM\",\n",
    "    \"Decision Tree\",\n",
    "    \"Random Forest\",\n",
    "    \"AdaBoost\",\n",
    "    \"Logistic Regression\",\n",
    "]"
   ],
   "metadata": {
    "collapsed": false,
    "ExecuteTime": {
     "end_time": "2024-03-05T16:19:59.240566Z",
     "start_time": "2024-03-05T16:19:59.235408Z"
    }
   },
   "id": "7c0c738e5254c805"
  },
  {
   "cell_type": "code",
   "execution_count": 18,
   "outputs": [],
   "source": [
    "classifiers = [\n",
    "    KNeighborsClassifier(3),\n",
    "    SVC(kernel=\"linear\", C=0.025, random_state=42),\n",
    "    DecisionTreeClassifier(max_depth=5, random_state=42),\n",
    "    RandomForestClassifier(\n",
    "        max_depth=5, n_estimators=10, max_features=1, random_state=42\n",
    "    ),\n",
    "    AdaBoostClassifier(algorithm=\"SAMME\", random_state=42),\n",
    "    LogisticRegression(random_state=0),\n",
    "]"
   ],
   "metadata": {
    "collapsed": false,
    "ExecuteTime": {
     "end_time": "2024-03-05T16:20:00.198518Z",
     "start_time": "2024-03-05T16:20:00.149053Z"
    }
   },
   "id": "1df575ef129aa3d6"
  },
  {
   "cell_type": "code",
   "execution_count": 19,
   "outputs": [],
   "source": [
    "datasets = [(X, y)]"
   ],
   "metadata": {
    "collapsed": false,
    "ExecuteTime": {
     "end_time": "2024-03-05T16:20:01.369863Z",
     "start_time": "2024-03-05T16:20:01.364923Z"
    }
   },
   "id": "ccfb7865125d17d0"
  },
  {
   "cell_type": "code",
   "execution_count": 20,
   "outputs": [
    {
     "name": "stdout",
     "output_type": "stream",
     "text": [
      "Training  Nearest Neighbors\n",
      "0.77645826056584\n",
      "Training  Linear SVM\n",
      "0.7963674467341949\n",
      "Training  Decision Tree\n",
      "0.9406217254628012\n",
      "Training  Random Forest\n",
      "0.9353824659448131\n",
      "Training  AdaBoost\n",
      "0.9406217254628012\n",
      "Training  Logistic Regression\n",
      "0.8281522878099895\n"
     ]
    }
   ],
   "source": [
    "# preprocess dataset, split into training and test part\n",
    "X_train, X_test, y_train, y_test = train_test_split(X, y, test_size=0.4, random_state=42)\n",
    "\n",
    "for name, clf in zip(names, classifiers):\n",
    "    print(\"Training \", name)\n",
    "\n",
    "    clf = make_pipeline(StandardScaler(), clf)\n",
    "    clf.fit(X_train, y_train)\n",
    "    score = clf.score(X_test, y_test)\n",
    "    print(score)\n"
   ],
   "metadata": {
    "collapsed": false,
    "ExecuteTime": {
     "end_time": "2024-03-05T16:20:03.590445Z",
     "start_time": "2024-03-05T16:20:02.592021Z"
    }
   },
   "id": "3a6060bb3efa1a25"
  },
  {
   "cell_type": "code",
   "execution_count": 21,
   "outputs": [
    {
     "data": {
      "text/plain": "Pipeline(steps=[('standardscaler', StandardScaler()),\n                ('adaboostclassifier',\n                 AdaBoostClassifier(algorithm='SAMME', random_state=42))])",
      "text/html": "<style>#sk-container-id-1 {\n  /* Definition of color scheme common for light and dark mode */\n  --sklearn-color-text: black;\n  --sklearn-color-line: gray;\n  /* Definition of color scheme for unfitted estimators */\n  --sklearn-color-unfitted-level-0: #fff5e6;\n  --sklearn-color-unfitted-level-1: #f6e4d2;\n  --sklearn-color-unfitted-level-2: #ffe0b3;\n  --sklearn-color-unfitted-level-3: chocolate;\n  /* Definition of color scheme for fitted estimators */\n  --sklearn-color-fitted-level-0: #f0f8ff;\n  --sklearn-color-fitted-level-1: #d4ebff;\n  --sklearn-color-fitted-level-2: #b3dbfd;\n  --sklearn-color-fitted-level-3: cornflowerblue;\n\n  /* Specific color for light theme */\n  --sklearn-color-text-on-default-background: var(--sg-text-color, var(--theme-code-foreground, var(--jp-content-font-color1, black)));\n  --sklearn-color-background: var(--sg-background-color, var(--theme-background, var(--jp-layout-color0, white)));\n  --sklearn-color-border-box: var(--sg-text-color, var(--theme-code-foreground, var(--jp-content-font-color1, black)));\n  --sklearn-color-icon: #696969;\n\n  @media (prefers-color-scheme: dark) {\n    /* Redefinition of color scheme for dark theme */\n    --sklearn-color-text-on-default-background: var(--sg-text-color, var(--theme-code-foreground, var(--jp-content-font-color1, white)));\n    --sklearn-color-background: var(--sg-background-color, var(--theme-background, var(--jp-layout-color0, #111)));\n    --sklearn-color-border-box: var(--sg-text-color, var(--theme-code-foreground, var(--jp-content-font-color1, white)));\n    --sklearn-color-icon: #878787;\n  }\n}\n\n#sk-container-id-1 {\n  color: var(--sklearn-color-text);\n}\n\n#sk-container-id-1 pre {\n  padding: 0;\n}\n\n#sk-container-id-1 input.sk-hidden--visually {\n  border: 0;\n  clip: rect(1px 1px 1px 1px);\n  clip: rect(1px, 1px, 1px, 1px);\n  height: 1px;\n  margin: -1px;\n  overflow: hidden;\n  padding: 0;\n  position: absolute;\n  width: 1px;\n}\n\n#sk-container-id-1 div.sk-dashed-wrapped {\n  border: 1px dashed var(--sklearn-color-line);\n  margin: 0 0.4em 0.5em 0.4em;\n  box-sizing: border-box;\n  padding-bottom: 0.4em;\n  background-color: var(--sklearn-color-background);\n}\n\n#sk-container-id-1 div.sk-container {\n  /* jupyter's `normalize.less` sets `[hidden] { display: none; }`\n     but bootstrap.min.css set `[hidden] { display: none !important; }`\n     so we also need the `!important` here to be able to override the\n     default hidden behavior on the sphinx rendered scikit-learn.org.\n     See: https://github.com/scikit-learn/scikit-learn/issues/21755 */\n  display: inline-block !important;\n  position: relative;\n}\n\n#sk-container-id-1 div.sk-text-repr-fallback {\n  display: none;\n}\n\ndiv.sk-parallel-item,\ndiv.sk-serial,\ndiv.sk-item {\n  /* draw centered vertical line to link estimators */\n  background-image: linear-gradient(var(--sklearn-color-text-on-default-background), var(--sklearn-color-text-on-default-background));\n  background-size: 2px 100%;\n  background-repeat: no-repeat;\n  background-position: center center;\n}\n\n/* Parallel-specific style estimator block */\n\n#sk-container-id-1 div.sk-parallel-item::after {\n  content: \"\";\n  width: 100%;\n  border-bottom: 2px solid var(--sklearn-color-text-on-default-background);\n  flex-grow: 1;\n}\n\n#sk-container-id-1 div.sk-parallel {\n  display: flex;\n  align-items: stretch;\n  justify-content: center;\n  background-color: var(--sklearn-color-background);\n  position: relative;\n}\n\n#sk-container-id-1 div.sk-parallel-item {\n  display: flex;\n  flex-direction: column;\n}\n\n#sk-container-id-1 div.sk-parallel-item:first-child::after {\n  align-self: flex-end;\n  width: 50%;\n}\n\n#sk-container-id-1 div.sk-parallel-item:last-child::after {\n  align-self: flex-start;\n  width: 50%;\n}\n\n#sk-container-id-1 div.sk-parallel-item:only-child::after {\n  width: 0;\n}\n\n/* Serial-specific style estimator block */\n\n#sk-container-id-1 div.sk-serial {\n  display: flex;\n  flex-direction: column;\n  align-items: center;\n  background-color: var(--sklearn-color-background);\n  padding-right: 1em;\n  padding-left: 1em;\n}\n\n\n/* Toggleable style: style used for estimator/Pipeline/ColumnTransformer box that is\nclickable and can be expanded/collapsed.\n- Pipeline and ColumnTransformer use this feature and define the default style\n- Estimators will overwrite some part of the style using the `sk-estimator` class\n*/\n\n/* Pipeline and ColumnTransformer style (default) */\n\n#sk-container-id-1 div.sk-toggleable {\n  /* Default theme specific background. It is overwritten whether we have a\n  specific estimator or a Pipeline/ColumnTransformer */\n  background-color: var(--sklearn-color-background);\n}\n\n/* Toggleable label */\n#sk-container-id-1 label.sk-toggleable__label {\n  cursor: pointer;\n  display: block;\n  width: 100%;\n  margin-bottom: 0;\n  padding: 0.5em;\n  box-sizing: border-box;\n  text-align: center;\n}\n\n#sk-container-id-1 label.sk-toggleable__label-arrow:before {\n  /* Arrow on the left of the label */\n  content: \"▸\";\n  float: left;\n  margin-right: 0.25em;\n  color: var(--sklearn-color-icon);\n}\n\n#sk-container-id-1 label.sk-toggleable__label-arrow:hover:before {\n  color: var(--sklearn-color-text);\n}\n\n/* Toggleable content - dropdown */\n\n#sk-container-id-1 div.sk-toggleable__content {\n  max-height: 0;\n  max-width: 0;\n  overflow: hidden;\n  text-align: left;\n  /* unfitted */\n  background-color: var(--sklearn-color-unfitted-level-0);\n}\n\n#sk-container-id-1 div.sk-toggleable__content.fitted {\n  /* fitted */\n  background-color: var(--sklearn-color-fitted-level-0);\n}\n\n#sk-container-id-1 div.sk-toggleable__content pre {\n  margin: 0.2em;\n  border-radius: 0.25em;\n  color: var(--sklearn-color-text);\n  /* unfitted */\n  background-color: var(--sklearn-color-unfitted-level-0);\n}\n\n#sk-container-id-1 div.sk-toggleable__content.fitted pre {\n  /* unfitted */\n  background-color: var(--sklearn-color-fitted-level-0);\n}\n\n#sk-container-id-1 input.sk-toggleable__control:checked~div.sk-toggleable__content {\n  /* Expand drop-down */\n  max-height: 200px;\n  max-width: 100%;\n  overflow: auto;\n}\n\n#sk-container-id-1 input.sk-toggleable__control:checked~label.sk-toggleable__label-arrow:before {\n  content: \"▾\";\n}\n\n/* Pipeline/ColumnTransformer-specific style */\n\n#sk-container-id-1 div.sk-label input.sk-toggleable__control:checked~label.sk-toggleable__label {\n  color: var(--sklearn-color-text);\n  background-color: var(--sklearn-color-unfitted-level-2);\n}\n\n#sk-container-id-1 div.sk-label.fitted input.sk-toggleable__control:checked~label.sk-toggleable__label {\n  background-color: var(--sklearn-color-fitted-level-2);\n}\n\n/* Estimator-specific style */\n\n/* Colorize estimator box */\n#sk-container-id-1 div.sk-estimator input.sk-toggleable__control:checked~label.sk-toggleable__label {\n  /* unfitted */\n  background-color: var(--sklearn-color-unfitted-level-2);\n}\n\n#sk-container-id-1 div.sk-estimator.fitted input.sk-toggleable__control:checked~label.sk-toggleable__label {\n  /* fitted */\n  background-color: var(--sklearn-color-fitted-level-2);\n}\n\n#sk-container-id-1 div.sk-label label.sk-toggleable__label,\n#sk-container-id-1 div.sk-label label {\n  /* The background is the default theme color */\n  color: var(--sklearn-color-text-on-default-background);\n}\n\n/* On hover, darken the color of the background */\n#sk-container-id-1 div.sk-label:hover label.sk-toggleable__label {\n  color: var(--sklearn-color-text);\n  background-color: var(--sklearn-color-unfitted-level-2);\n}\n\n/* Label box, darken color on hover, fitted */\n#sk-container-id-1 div.sk-label.fitted:hover label.sk-toggleable__label.fitted {\n  color: var(--sklearn-color-text);\n  background-color: var(--sklearn-color-fitted-level-2);\n}\n\n/* Estimator label */\n\n#sk-container-id-1 div.sk-label label {\n  font-family: monospace;\n  font-weight: bold;\n  display: inline-block;\n  line-height: 1.2em;\n}\n\n#sk-container-id-1 div.sk-label-container {\n  text-align: center;\n}\n\n/* Estimator-specific */\n#sk-container-id-1 div.sk-estimator {\n  font-family: monospace;\n  border: 1px dotted var(--sklearn-color-border-box);\n  border-radius: 0.25em;\n  box-sizing: border-box;\n  margin-bottom: 0.5em;\n  /* unfitted */\n  background-color: var(--sklearn-color-unfitted-level-0);\n}\n\n#sk-container-id-1 div.sk-estimator.fitted {\n  /* fitted */\n  background-color: var(--sklearn-color-fitted-level-0);\n}\n\n/* on hover */\n#sk-container-id-1 div.sk-estimator:hover {\n  /* unfitted */\n  background-color: var(--sklearn-color-unfitted-level-2);\n}\n\n#sk-container-id-1 div.sk-estimator.fitted:hover {\n  /* fitted */\n  background-color: var(--sklearn-color-fitted-level-2);\n}\n\n/* Specification for estimator info (e.g. \"i\" and \"?\") */\n\n/* Common style for \"i\" and \"?\" */\n\n.sk-estimator-doc-link,\na:link.sk-estimator-doc-link,\na:visited.sk-estimator-doc-link {\n  float: right;\n  font-size: smaller;\n  line-height: 1em;\n  font-family: monospace;\n  background-color: var(--sklearn-color-background);\n  border-radius: 1em;\n  height: 1em;\n  width: 1em;\n  text-decoration: none !important;\n  margin-left: 1ex;\n  /* unfitted */\n  border: var(--sklearn-color-unfitted-level-1) 1pt solid;\n  color: var(--sklearn-color-unfitted-level-1);\n}\n\n.sk-estimator-doc-link.fitted,\na:link.sk-estimator-doc-link.fitted,\na:visited.sk-estimator-doc-link.fitted {\n  /* fitted */\n  border: var(--sklearn-color-fitted-level-1) 1pt solid;\n  color: var(--sklearn-color-fitted-level-1);\n}\n\n/* On hover */\ndiv.sk-estimator:hover .sk-estimator-doc-link:hover,\n.sk-estimator-doc-link:hover,\ndiv.sk-label-container:hover .sk-estimator-doc-link:hover,\n.sk-estimator-doc-link:hover {\n  /* unfitted */\n  background-color: var(--sklearn-color-unfitted-level-3);\n  color: var(--sklearn-color-background);\n  text-decoration: none;\n}\n\ndiv.sk-estimator.fitted:hover .sk-estimator-doc-link.fitted:hover,\n.sk-estimator-doc-link.fitted:hover,\ndiv.sk-label-container:hover .sk-estimator-doc-link.fitted:hover,\n.sk-estimator-doc-link.fitted:hover {\n  /* fitted */\n  background-color: var(--sklearn-color-fitted-level-3);\n  color: var(--sklearn-color-background);\n  text-decoration: none;\n}\n\n/* Span, style for the box shown on hovering the info icon */\n.sk-estimator-doc-link span {\n  display: none;\n  z-index: 9999;\n  position: relative;\n  font-weight: normal;\n  right: .2ex;\n  padding: .5ex;\n  margin: .5ex;\n  width: min-content;\n  min-width: 20ex;\n  max-width: 50ex;\n  color: var(--sklearn-color-text);\n  box-shadow: 2pt 2pt 4pt #999;\n  /* unfitted */\n  background: var(--sklearn-color-unfitted-level-0);\n  border: .5pt solid var(--sklearn-color-unfitted-level-3);\n}\n\n.sk-estimator-doc-link.fitted span {\n  /* fitted */\n  background: var(--sklearn-color-fitted-level-0);\n  border: var(--sklearn-color-fitted-level-3);\n}\n\n.sk-estimator-doc-link:hover span {\n  display: block;\n}\n\n/* \"?\"-specific style due to the `<a>` HTML tag */\n\n#sk-container-id-1 a.estimator_doc_link {\n  float: right;\n  font-size: 1rem;\n  line-height: 1em;\n  font-family: monospace;\n  background-color: var(--sklearn-color-background);\n  border-radius: 1rem;\n  height: 1rem;\n  width: 1rem;\n  text-decoration: none;\n  /* unfitted */\n  color: var(--sklearn-color-unfitted-level-1);\n  border: var(--sklearn-color-unfitted-level-1) 1pt solid;\n}\n\n#sk-container-id-1 a.estimator_doc_link.fitted {\n  /* fitted */\n  border: var(--sklearn-color-fitted-level-1) 1pt solid;\n  color: var(--sklearn-color-fitted-level-1);\n}\n\n/* On hover */\n#sk-container-id-1 a.estimator_doc_link:hover {\n  /* unfitted */\n  background-color: var(--sklearn-color-unfitted-level-3);\n  color: var(--sklearn-color-background);\n  text-decoration: none;\n}\n\n#sk-container-id-1 a.estimator_doc_link.fitted:hover {\n  /* fitted */\n  background-color: var(--sklearn-color-fitted-level-3);\n}\n</style><div id=\"sk-container-id-1\" class=\"sk-top-container\"><div class=\"sk-text-repr-fallback\"><pre>Pipeline(steps=[(&#x27;standardscaler&#x27;, StandardScaler()),\n                (&#x27;adaboostclassifier&#x27;,\n                 AdaBoostClassifier(algorithm=&#x27;SAMME&#x27;, random_state=42))])</pre><b>In a Jupyter environment, please rerun this cell to show the HTML representation or trust the notebook. <br />On GitHub, the HTML representation is unable to render, please try loading this page with nbviewer.org.</b></div><div class=\"sk-container\" hidden><div class=\"sk-item sk-dashed-wrapped\"><div class=\"sk-label-container\"><div class=\"sk-label fitted sk-toggleable\"><input class=\"sk-toggleable__control sk-hidden--visually\" id=\"sk-estimator-id-1\" type=\"checkbox\" ><label for=\"sk-estimator-id-1\" class=\"sk-toggleable__label fitted sk-toggleable__label-arrow fitted\">&nbsp;&nbsp;Pipeline<a class=\"sk-estimator-doc-link fitted\" rel=\"noreferrer\" target=\"_blank\" href=\"https://scikit-learn.org/1.4/modules/generated/sklearn.pipeline.Pipeline.html\">?<span>Documentation for Pipeline</span></a><span class=\"sk-estimator-doc-link fitted\">i<span>Fitted</span></span></label><div class=\"sk-toggleable__content fitted\"><pre>Pipeline(steps=[(&#x27;standardscaler&#x27;, StandardScaler()),\n                (&#x27;adaboostclassifier&#x27;,\n                 AdaBoostClassifier(algorithm=&#x27;SAMME&#x27;, random_state=42))])</pre></div> </div></div><div class=\"sk-serial\"><div class=\"sk-item\"><div class=\"sk-estimator fitted sk-toggleable\"><input class=\"sk-toggleable__control sk-hidden--visually\" id=\"sk-estimator-id-2\" type=\"checkbox\" ><label for=\"sk-estimator-id-2\" class=\"sk-toggleable__label fitted sk-toggleable__label-arrow fitted\">&nbsp;StandardScaler<a class=\"sk-estimator-doc-link fitted\" rel=\"noreferrer\" target=\"_blank\" href=\"https://scikit-learn.org/1.4/modules/generated/sklearn.preprocessing.StandardScaler.html\">?<span>Documentation for StandardScaler</span></a></label><div class=\"sk-toggleable__content fitted\"><pre>StandardScaler()</pre></div> </div></div><div class=\"sk-item\"><div class=\"sk-estimator fitted sk-toggleable\"><input class=\"sk-toggleable__control sk-hidden--visually\" id=\"sk-estimator-id-3\" type=\"checkbox\" ><label for=\"sk-estimator-id-3\" class=\"sk-toggleable__label fitted sk-toggleable__label-arrow fitted\">&nbsp;AdaBoostClassifier<a class=\"sk-estimator-doc-link fitted\" rel=\"noreferrer\" target=\"_blank\" href=\"https://scikit-learn.org/1.4/modules/generated/sklearn.ensemble.AdaBoostClassifier.html\">?<span>Documentation for AdaBoostClassifier</span></a></label><div class=\"sk-toggleable__content fitted\"><pre>AdaBoostClassifier(algorithm=&#x27;SAMME&#x27;, random_state=42)</pre></div> </div></div></div></div></div></div>"
     },
     "execution_count": 21,
     "metadata": {},
     "output_type": "execute_result"
    }
   ],
   "source": [
    "clf = AdaBoostClassifier(algorithm=\"SAMME\", random_state=42)\n",
    "clf = make_pipeline(StandardScaler(), clf)\n",
    "clf.fit(X_train, y_train)"
   ],
   "metadata": {
    "collapsed": false,
    "ExecuteTime": {
     "end_time": "2024-03-05T16:20:06.602919Z",
     "start_time": "2024-03-05T16:20:06.339440Z"
    }
   },
   "id": "758487d6a57540c4"
  },
  {
   "cell_type": "markdown",
   "source": [
    "# Predictions"
   ],
   "metadata": {
    "collapsed": false
   },
   "id": "8f39957e64c4dea7"
  },
  {
   "cell_type": "code",
   "execution_count": 26,
   "outputs": [],
   "source": [
    "validation = duck.validation_hidden_file\n",
    "test = duck.testing_file\n",
    "directing = duck.directing\n",
    "writing = duck.writing"
   ],
   "metadata": {
    "collapsed": false,
    "ExecuteTime": {
     "end_time": "2024-03-05T16:23:30.271122Z",
     "start_time": "2024-03-05T16:23:30.258677Z"
    }
   },
   "id": "aaab7bcd2dd46eac"
  },
  {
   "cell_type": "code",
   "execution_count": 28,
   "outputs": [],
   "source": [
    "clean_test_data = duck.conn.query(\n",
    "    f\"\"\"\n",
    "        select \n",
    "            try_cast(tconst as varchar) as tconst\n",
    "            , try_cast(primaryTitle as varchar) as primaryTitle\n",
    "            , try_cast(originalTitle as varchar) as originalTitle\n",
    "            , try_cast(runtimeMinutes as integer) as runtimeMinutes\n",
    "            , try_cast(numVotes as integer) as numVotes\n",
    "            , to_ascii(primaryTitle) as title\n",
    "            , try_cast(startYear as integer) as yearStart, \n",
    "            try_cast(endYear as integer) as yearEnd,\n",
    "            case \n",
    "                when yearStart is not null and yearEnd is null then yearStart\n",
    "                when yearStart is NULL and yearEnd is not NULL then yearEnd\n",
    "                else yearStart\n",
    "                end as year\n",
    "                , case\n",
    "                    when director = '\\\\N' then null\n",
    "                    else try_cast(director as varchar)\n",
    "                    end as director\n",
    "                , case\n",
    "                    when writer = '\\\\N' then null\n",
    "                    else try_cast(writer as varchar)\n",
    "                    end as writer\n",
    "            ,case\n",
    "                when title != originalTitle and originalTitle != '' then True\n",
    "                else False\n",
    "            end as foreign_movie\n",
    "        from test\n",
    "        left outer join directing\n",
    "        on test.tconst = directing.movie\n",
    "        left outer join writing\n",
    "        on test.tconst = writing.movie\n",
    "\"\"\"\n",
    ")"
   ],
   "metadata": {
    "collapsed": false,
    "ExecuteTime": {
     "end_time": "2024-03-05T16:24:04.592999Z",
     "start_time": "2024-03-05T16:24:04.478112Z"
    }
   },
   "id": "c6353ead0290e650"
  },
  {
   "cell_type": "code",
   "outputs": [],
   "source": [
    "aggregated_test = duck.conn.query(\n",
    "    \"\"\"\n",
    "    select \n",
    "            tconst\n",
    "            ,title \n",
    "            ,year\n",
    "            , foreign_movie\n",
    "            , runtimeMinutes\n",
    "            , numVotes\n",
    "            ,listagg(distinct clean_test_data.director, ', ') as directors\n",
    "            ,listagg(distinct clean_test_data.writer, ', ') as writers\n",
    "            ,len(directors) as n_directors\n",
    "            ,len(writers) as n_writers\n",
    "            , len(title) as title_length\n",
    "            --,label\n",
    "            , sum(n_successes_dir) as n_successes_dir\n",
    "            , sum(n_successes_wri) as n_successes_wri\n",
    "        from clean_test_data\n",
    "        left outer join director_rating on clean_test_data.director = director_rating.director\n",
    "        left outer join writer_rating on clean_test_data.writer = writer_rating.writer\n",
    "        group by tconst, title, year, foreign_movie, runtimeMinutes, numVotes\n",
    "    \"\"\"\n",
    ")"
   ],
   "metadata": {
    "collapsed": false,
    "ExecuteTime": {
     "end_time": "2024-03-05T16:24:50.005129Z",
     "start_time": "2024-03-05T16:24:49.970604Z"
    }
   },
   "id": "9290e1024fba379d",
   "execution_count": 29
  },
  {
   "cell_type": "code",
   "outputs": [],
   "source": [
    "test_data = duck.conn.query(\n",
    "    \"\"\"\n",
    "    select \n",
    "        tconst\n",
    "        , year\n",
    "        , foreign_movie\n",
    "        , runtimeMinutes\n",
    "        , numVotes\n",
    "        , title_length\n",
    "        , case \n",
    "            when n_successes_dir is null then 0\n",
    "            else n_successes_dir\n",
    "            end as n_successes_dir\n",
    "        , case \n",
    "            when n_successes_wri is null then 0\n",
    "            else n_successes_wri\n",
    "            end as n_successes_wri\n",
    "    from aggregated_test\n",
    "    \"\"\"\n",
    ")"
   ],
   "metadata": {
    "collapsed": false,
    "ExecuteTime": {
     "end_time": "2024-03-05T16:31:12.604554Z",
     "start_time": "2024-03-05T16:31:12.571337Z"
    }
   },
   "id": "68c9404bb5d31112",
   "execution_count": 41
  },
  {
   "cell_type": "code",
   "execution_count": 42,
   "outputs": [
    {
     "data": {
      "text/plain": "         tconst  year  foreign_movie  runtimeMinutes  numVotes  title_length  \\\n0     tt0050381  1958          False           104.0    2022.0             8   \n1     tt0051020  1958          False            75.0    1135.0            29   \n2     tt0053643  1960          False           105.0    1509.0            13   \n3     tt0054734  1961          False            98.0    1221.0            27   \n4     tt0055093  1961          False            90.0    6239.0             4   \n...         ...   ...            ...             ...       ...           ...   \n1081  tt2795078  2013          False           125.0       NaN            15   \n1082  tt5849148  2016          False           124.0    1329.0             4   \n1083  tt7485048  2019          False           154.0   27714.0             8   \n1084  tt0036891  1944          False           101.0    4612.0            24   \n1085  tt0110076  1994          False           206.0   20533.0            22   \n\n      n_successes_dir  n_successes_wri  \n0                 0.0             26.0  \n1                 0.0              0.0  \n2                 0.0              6.0  \n3                 0.0              9.0  \n4                 0.0              0.0  \n...               ...              ...  \n1081              1.0              1.0  \n1082              2.0              1.0  \n1083              1.0              2.0  \n1084              2.0              7.0  \n1085              1.0              1.0  \n\n[1086 rows x 8 columns]",
      "text/html": "<div>\n<style scoped>\n    .dataframe tbody tr th:only-of-type {\n        vertical-align: middle;\n    }\n\n    .dataframe tbody tr th {\n        vertical-align: top;\n    }\n\n    .dataframe thead th {\n        text-align: right;\n    }\n</style>\n<table border=\"1\" class=\"dataframe\">\n  <thead>\n    <tr style=\"text-align: right;\">\n      <th></th>\n      <th>tconst</th>\n      <th>year</th>\n      <th>foreign_movie</th>\n      <th>runtimeMinutes</th>\n      <th>numVotes</th>\n      <th>title_length</th>\n      <th>n_successes_dir</th>\n      <th>n_successes_wri</th>\n    </tr>\n  </thead>\n  <tbody>\n    <tr>\n      <th>0</th>\n      <td>tt0050381</td>\n      <td>1958</td>\n      <td>False</td>\n      <td>104.0</td>\n      <td>2022.0</td>\n      <td>8</td>\n      <td>0.0</td>\n      <td>26.0</td>\n    </tr>\n    <tr>\n      <th>1</th>\n      <td>tt0051020</td>\n      <td>1958</td>\n      <td>False</td>\n      <td>75.0</td>\n      <td>1135.0</td>\n      <td>29</td>\n      <td>0.0</td>\n      <td>0.0</td>\n    </tr>\n    <tr>\n      <th>2</th>\n      <td>tt0053643</td>\n      <td>1960</td>\n      <td>False</td>\n      <td>105.0</td>\n      <td>1509.0</td>\n      <td>13</td>\n      <td>0.0</td>\n      <td>6.0</td>\n    </tr>\n    <tr>\n      <th>3</th>\n      <td>tt0054734</td>\n      <td>1961</td>\n      <td>False</td>\n      <td>98.0</td>\n      <td>1221.0</td>\n      <td>27</td>\n      <td>0.0</td>\n      <td>9.0</td>\n    </tr>\n    <tr>\n      <th>4</th>\n      <td>tt0055093</td>\n      <td>1961</td>\n      <td>False</td>\n      <td>90.0</td>\n      <td>6239.0</td>\n      <td>4</td>\n      <td>0.0</td>\n      <td>0.0</td>\n    </tr>\n    <tr>\n      <th>...</th>\n      <td>...</td>\n      <td>...</td>\n      <td>...</td>\n      <td>...</td>\n      <td>...</td>\n      <td>...</td>\n      <td>...</td>\n      <td>...</td>\n    </tr>\n    <tr>\n      <th>1081</th>\n      <td>tt2795078</td>\n      <td>2013</td>\n      <td>False</td>\n      <td>125.0</td>\n      <td>NaN</td>\n      <td>15</td>\n      <td>1.0</td>\n      <td>1.0</td>\n    </tr>\n    <tr>\n      <th>1082</th>\n      <td>tt5849148</td>\n      <td>2016</td>\n      <td>False</td>\n      <td>124.0</td>\n      <td>1329.0</td>\n      <td>4</td>\n      <td>2.0</td>\n      <td>1.0</td>\n    </tr>\n    <tr>\n      <th>1083</th>\n      <td>tt7485048</td>\n      <td>2019</td>\n      <td>False</td>\n      <td>154.0</td>\n      <td>27714.0</td>\n      <td>8</td>\n      <td>1.0</td>\n      <td>2.0</td>\n    </tr>\n    <tr>\n      <th>1084</th>\n      <td>tt0036891</td>\n      <td>1944</td>\n      <td>False</td>\n      <td>101.0</td>\n      <td>4612.0</td>\n      <td>24</td>\n      <td>2.0</td>\n      <td>7.0</td>\n    </tr>\n    <tr>\n      <th>1085</th>\n      <td>tt0110076</td>\n      <td>1994</td>\n      <td>False</td>\n      <td>206.0</td>\n      <td>20533.0</td>\n      <td>22</td>\n      <td>1.0</td>\n      <td>1.0</td>\n    </tr>\n  </tbody>\n</table>\n<p>1086 rows × 8 columns</p>\n</div>"
     },
     "execution_count": 42,
     "metadata": {},
     "output_type": "execute_result"
    }
   ],
   "source": [
    "test_data = test_data.df()\n",
    "test_data"
   ],
   "metadata": {
    "collapsed": false,
    "ExecuteTime": {
     "end_time": "2024-03-05T16:31:18.626321Z",
     "start_time": "2024-03-05T16:31:18.493203Z"
    }
   },
   "id": "43a3b6daad1e2f47"
  },
  {
   "cell_type": "markdown",
   "source": [
    "**imput missing values**"
   ],
   "metadata": {
    "collapsed": false
   },
   "id": "3d960ee075581efc"
  },
  {
   "cell_type": "code",
   "execution_count": 33,
   "outputs": [
    {
     "name": "stdout",
     "output_type": "stream",
     "text": [
      "<class 'pandas.core.frame.DataFrame'>\n",
      "RangeIndex: 1086 entries, 0 to 1085\n",
      "Data columns (total 8 columns):\n",
      " #   Column           Non-Null Count  Dtype  \n",
      "---  ------           --------------  -----  \n",
      " 0   tconst           1086 non-null   object \n",
      " 1   year             1086 non-null   int32  \n",
      " 2   foreign_movie    1086 non-null   bool   \n",
      " 3   runtimeMinutes   1085 non-null   float64\n",
      " 4   numVotes         967 non-null    float64\n",
      " 5   title_length     1086 non-null   int64  \n",
      " 6   n_successes_dir  1086 non-null   float64\n",
      " 7   n_successes_wri  1086 non-null   float64\n",
      "dtypes: bool(1), float64(4), int32(1), int64(1), object(1)\n",
      "memory usage: 56.3+ KB\n"
     ]
    }
   ],
   "source": [
    "test_data.info()"
   ],
   "metadata": {
    "collapsed": false,
    "ExecuteTime": {
     "end_time": "2024-03-05T16:28:52.633148Z",
     "start_time": "2024-03-05T16:28:52.607314Z"
    }
   },
   "id": "2de4e3fc054cce4a"
  },
  {
   "cell_type": "code",
   "execution_count": 35,
   "outputs": [],
   "source": [
    "imp_mean = SimpleImputer(missing_values=np.nan, strategy='mean')"
   ],
   "metadata": {
    "collapsed": false,
    "ExecuteTime": {
     "end_time": "2024-03-05T16:29:21.218467Z",
     "start_time": "2024-03-05T16:29:21.147536Z"
    }
   },
   "id": "22cf1461c51cadac"
  },
  {
   "cell_type": "code",
   "execution_count": 36,
   "outputs": [],
   "source": [
    "X_test = test_data.drop('tconst', axis=1).values"
   ],
   "metadata": {
    "collapsed": false,
    "ExecuteTime": {
     "end_time": "2024-03-05T16:29:23.193659Z",
     "start_time": "2024-03-05T16:29:23.189876Z"
    }
   },
   "id": "cb5293a4fd0a64fd"
  },
  {
   "cell_type": "code",
   "execution_count": 37,
   "outputs": [],
   "source": [
    "X_test = imp_mean.fit_transform(X_test)"
   ],
   "metadata": {
    "collapsed": false,
    "ExecuteTime": {
     "end_time": "2024-03-05T16:29:24.721915Z",
     "start_time": "2024-03-05T16:29:24.703031Z"
    }
   },
   "id": "180724bfa26d1822"
  },
  {
   "cell_type": "code",
   "execution_count": 38,
   "outputs": [],
   "source": [
    "y_pred = clf.predict(X_test)"
   ],
   "metadata": {
    "collapsed": false,
    "ExecuteTime": {
     "end_time": "2024-03-05T16:29:29.797375Z",
     "start_time": "2024-03-05T16:29:29.669680Z"
    }
   },
   "id": "c39eb6db63ff53d8"
  },
  {
   "cell_type": "code",
   "execution_count": 39,
   "outputs": [
    {
     "data": {
      "text/plain": "array([False, False, False, ..., False,  True,  True])"
     },
     "execution_count": 39,
     "metadata": {},
     "output_type": "execute_result"
    }
   ],
   "source": [
    "y_pred"
   ],
   "metadata": {
    "collapsed": false,
    "ExecuteTime": {
     "end_time": "2024-03-05T16:29:31.446192Z",
     "start_time": "2024-03-05T16:29:31.440102Z"
    }
   },
   "id": "3748ebc00d4ee70"
  },
  {
   "cell_type": "code",
   "outputs": [],
   "source": [
    "predictions_folder = Path(\".\").resolve() / \"predictions\""
   ],
   "metadata": {
    "collapsed": false,
    "ExecuteTime": {
     "end_time": "2024-03-05T16:36:20.566354Z",
     "start_time": "2024-03-05T16:36:20.551054Z"
    }
   },
   "id": "2498243d8ccf0963",
   "execution_count": 44
  },
  {
   "cell_type": "code",
   "execution_count": 46,
   "outputs": [],
   "source": [
    "Y = pd.DataFrame(y_pred)\n",
    "Y.to_csv( predictions_folder / \"test_hidden_martin.txt\", sep=\"\\t\", index=False)"
   ],
   "metadata": {
    "collapsed": false,
    "ExecuteTime": {
     "end_time": "2024-03-05T16:36:54.138605Z",
     "start_time": "2024-03-05T16:36:54.110315Z"
    }
   },
   "id": "813ba08fa4daf1bc"
  },
  {
   "cell_type": "code",
   "execution_count": 47,
   "outputs": [],
   "source": [
    "Y = pd.DataFrame(y_pred)\n",
    "Y.to_csv(predictions_folder / \"validation_hidden_martin.txt\", sep=\"\\t\", index=False)"
   ],
   "metadata": {
    "collapsed": false,
    "ExecuteTime": {
     "end_time": "2024-03-05T16:36:56.312539Z",
     "start_time": "2024-03-05T16:36:56.308397Z"
    }
   },
   "id": "b8fcf0cad66e9659"
  },
  {
   "cell_type": "code",
   "outputs": [],
   "source": [],
   "metadata": {
    "collapsed": false
   },
   "id": "60824279d06c5c89"
  }
 ],
 "metadata": {
  "kernelspec": {
   "display_name": "Python 3",
   "language": "python",
   "name": "python3"
  },
  "language_info": {
   "codemirror_mode": {
    "name": "ipython",
    "version": 2
   },
   "file_extension": ".py",
   "mimetype": "text/x-python",
   "name": "python",
   "nbconvert_exporter": "python",
   "pygments_lexer": "ipython2",
   "version": "2.7.6"
  }
 },
 "nbformat": 4,
 "nbformat_minor": 5
}

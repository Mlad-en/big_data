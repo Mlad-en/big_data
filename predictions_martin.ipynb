{
 "cells": [
  {
   "cell_type": "code",
   "execution_count": 165,
   "id": "initial_id",
   "metadata": {
    "collapsed": true,
    "ExecuteTime": {
     "end_time": "2024-03-03T20:56:26.857660Z",
     "start_time": "2024-03-03T20:56:26.838767Z"
    }
   },
   "outputs": [],
   "source": [
    "import pyarrow as pa\n",
    "import pyarrow.csv\n",
    "import pyarrow.json\n",
    "import pyarrow.parquet as pq\n",
    "import os\n",
    "import glob\n",
    "import pyarrow.fs as fs\n",
    "import json\n",
    "import pyarrow.compute"
   ]
  },
  {
   "cell_type": "markdown",
   "source": [
    "# 1. Convert to parquet for faster handling with DuckDb"
   ],
   "metadata": {
    "collapsed": false
   },
   "id": "8b9e5dbe8da11828"
  },
  {
   "cell_type": "code",
   "execution_count": 166,
   "outputs": [],
   "source": [
    "project_dir = os.getcwd()\n",
    "data_dir = project_dir + \"/data\""
   ],
   "metadata": {
    "collapsed": false,
    "ExecuteTime": {
     "end_time": "2024-03-03T20:56:27.374136Z",
     "start_time": "2024-03-03T20:56:27.357429Z"
    }
   },
   "id": "9c2ed49edf55a6bf"
  },
  {
   "cell_type": "code",
   "execution_count": 167,
   "outputs": [],
   "source": [
    "train_paths = glob.glob(f'{data_dir}/train-*.csv')"
   ],
   "metadata": {
    "collapsed": false,
    "ExecuteTime": {
     "end_time": "2024-03-03T20:56:27.581713Z",
     "start_time": "2024-03-03T20:56:27.566367Z"
    }
   },
   "id": "c500d14d2aa5ded1"
  },
  {
   "cell_type": "code",
   "execution_count": 168,
   "outputs": [],
   "source": [
    "parquet_folder = project_dir + \"/data_parquet\""
   ],
   "metadata": {
    "collapsed": false,
    "ExecuteTime": {
     "end_time": "2024-03-03T20:56:27.794395Z",
     "start_time": "2024-03-03T20:56:27.780810Z"
    }
   },
   "id": "7fb5a30ebad1d66a"
  },
  {
   "cell_type": "code",
   "execution_count": 169,
   "outputs": [],
   "source": [
    "def convert_to_parquet(csv_path, output_destination, overwrite=True):\n",
    "    print(\"Reading file \", csv_path)\n",
    "    table = pa.csv.read_csv(csv_path)\n",
    "    file_name = os.path.basename(csv_path)\n",
    "    output_filename = os.path.splitext(file_name)[0] + '.parquet'\n",
    "    output_path = output_destination + \"/\" + output_filename\n",
    "    print(f'Writing {output_filename} to {output_path}...')\n",
    "    local_fs = fs.LocalFileSystem()\n",
    "\n",
    "    try:\n",
    "        # Attempt to write the Arrow table to a Parquet file\n",
    "        pq.write_table(table, output_path)\n",
    "    \n",
    "    except fs.FSFileAlreadyExists:\n",
    "        if overwrite:\n",
    "            # If the Parquet file already exists, delete it and then write the new file\n",
    "            local_fs.delete_file(output_path)\n",
    "            pq.write_table(table, output_path)\n",
    "        else:\n",
    "            print(f\"File already exists, skipping {output_filename}\")"
   ],
   "metadata": {
    "collapsed": false,
    "ExecuteTime": {
     "end_time": "2024-03-03T20:56:28.015144Z",
     "start_time": "2024-03-03T20:56:27.991151Z"
    }
   },
   "id": "5ecdbb0016b313f1"
  },
  {
   "cell_type": "code",
   "execution_count": 170,
   "outputs": [
    {
     "name": "stdout",
     "output_type": "stream",
     "text": [
      "Reading file  /Users/martinarnold/uva/bigdata/big_data/data/train-6.csv\n",
      "Writing train-6.parquet to /Users/martinarnold/uva/bigdata/big_data/data_parquet/train-6.parquet...\n",
      "Reading file  /Users/martinarnold/uva/bigdata/big_data/data/train-7.csv\n",
      "Writing train-7.parquet to /Users/martinarnold/uva/bigdata/big_data/data_parquet/train-7.parquet...\n",
      "Reading file  /Users/martinarnold/uva/bigdata/big_data/data/train-5.csv\n",
      "Writing train-5.parquet to /Users/martinarnold/uva/bigdata/big_data/data_parquet/train-5.parquet...\n",
      "Reading file  /Users/martinarnold/uva/bigdata/big_data/data/train-4.csv\n",
      "Writing train-4.parquet to /Users/martinarnold/uva/bigdata/big_data/data_parquet/train-4.parquet...\n",
      "Reading file  /Users/martinarnold/uva/bigdata/big_data/data/train-1.csv\n",
      "Writing train-1.parquet to /Users/martinarnold/uva/bigdata/big_data/data_parquet/train-1.parquet...\n",
      "Reading file  /Users/martinarnold/uva/bigdata/big_data/data/train-3.csv\n",
      "Writing train-3.parquet to /Users/martinarnold/uva/bigdata/big_data/data_parquet/train-3.parquet...\n",
      "Reading file  /Users/martinarnold/uva/bigdata/big_data/data/train-2.csv\n",
      "Writing train-2.parquet to /Users/martinarnold/uva/bigdata/big_data/data_parquet/train-2.parquet...\n",
      "Reading file  /Users/martinarnold/uva/bigdata/big_data/data/train-8.csv\n",
      "Writing train-8.parquet to /Users/martinarnold/uva/bigdata/big_data/data_parquet/train-8.parquet...\n"
     ]
    }
   ],
   "source": [
    "for path in train_paths:\n",
    "    convert_to_parquet(path, parquet_folder)"
   ],
   "metadata": {
    "collapsed": false,
    "ExecuteTime": {
     "end_time": "2024-03-03T20:56:28.414872Z",
     "start_time": "2024-03-03T20:56:28.222043Z"
    }
   },
   "id": "c185baeb7d3b6cc3"
  },
  {
   "cell_type": "markdown",
   "source": [
    "## Directors"
   ],
   "metadata": {
    "collapsed": false
   },
   "id": "9aa46a266a4c2873"
  },
  {
   "cell_type": "code",
   "execution_count": 171,
   "outputs": [],
   "source": [
    "directing_filepath = project_dir + \"/data/directing.json\""
   ],
   "metadata": {
    "collapsed": false,
    "ExecuteTime": {
     "end_time": "2024-03-03T20:56:28.749752Z",
     "start_time": "2024-03-03T20:56:28.728235Z"
    }
   },
   "id": "7281c8da5e27bd30"
  },
  {
   "cell_type": "code",
   "execution_count": 172,
   "outputs": [],
   "source": [
    "with open(directing_filepath, 'r') as json_file:\n",
    "    json_data = json.load(json_file)"
   ],
   "metadata": {
    "collapsed": false,
    "ExecuteTime": {
     "end_time": "2024-03-03T20:56:29.088196Z",
     "start_time": "2024-03-03T20:56:29.070694Z"
    }
   },
   "id": "7b9d60c53fe55ae9"
  },
  {
   "cell_type": "code",
   "execution_count": 173,
   "outputs": [],
   "source": [
    "movies = json_data['movie'].values()\n",
    "directors = json_data['director'].values()"
   ],
   "metadata": {
    "collapsed": false,
    "ExecuteTime": {
     "end_time": "2024-03-03T20:56:29.412763Z",
     "start_time": "2024-03-03T20:56:29.393525Z"
    }
   },
   "id": "841592547c90934"
  },
  {
   "cell_type": "code",
   "execution_count": 174,
   "outputs": [
    {
     "data": {
      "text/plain": "7189"
     },
     "execution_count": 174,
     "metadata": {},
     "output_type": "execute_result"
    }
   ],
   "source": [
    "len(set(directors))"
   ],
   "metadata": {
    "collapsed": false,
    "ExecuteTime": {
     "end_time": "2024-03-03T20:56:29.710006Z",
     "start_time": "2024-03-03T20:56:29.692941Z"
    }
   },
   "id": "4d7106ad18587fc"
  },
  {
   "cell_type": "code",
   "execution_count": 175,
   "outputs": [],
   "source": [
    "movies = pa.array(movies)\n",
    "directors = pa.array(directors)\n",
    "names = ['movie', 'director']"
   ],
   "metadata": {
    "collapsed": false,
    "ExecuteTime": {
     "end_time": "2024-03-03T20:56:30.060007Z",
     "start_time": "2024-03-03T20:56:30.012277Z"
    }
   },
   "id": "3d86d27d0023f3bc"
  },
  {
   "cell_type": "code",
   "execution_count": 176,
   "outputs": [],
   "source": [
    "table = pa.Table.from_arrays([movies, directors], names=names)"
   ],
   "metadata": {
    "collapsed": false,
    "ExecuteTime": {
     "end_time": "2024-03-03T20:56:30.410045Z",
     "start_time": "2024-03-03T20:56:30.365320Z"
    }
   },
   "id": "4c6674f97ff6aaa8"
  },
  {
   "cell_type": "code",
   "execution_count": 177,
   "outputs": [],
   "source": [
    "pq.write_table(table, project_dir+\"/data_parquet/directing.parquet\")"
   ],
   "metadata": {
    "collapsed": false,
    "ExecuteTime": {
     "end_time": "2024-03-03T20:56:30.755108Z",
     "start_time": "2024-03-03T20:56:30.733006Z"
    }
   },
   "id": "dba3ea2933f2cc83"
  },
  {
   "cell_type": "markdown",
   "source": [
    "## Writers"
   ],
   "metadata": {
    "collapsed": false
   },
   "id": "14757bc06ac127e9"
  },
  {
   "cell_type": "code",
   "execution_count": 178,
   "outputs": [],
   "source": [
    "directing_filepath = project_dir + \"/data/writing.json\"\n",
    "with open(directing_filepath, 'r') as json_file:\n",
    "    json_data = json.load(json_file)"
   ],
   "metadata": {
    "collapsed": false,
    "ExecuteTime": {
     "end_time": "2024-03-03T20:56:31.771245Z",
     "start_time": "2024-03-03T20:56:31.756003Z"
    }
   },
   "id": "8687abcefba0ee03"
  },
  {
   "cell_type": "code",
   "execution_count": 179,
   "outputs": [],
   "source": [
    "movies = [entry['movie'] for entry in json_data]\n",
    "writers = [entry['writer'] for entry in json_data]"
   ],
   "metadata": {
    "collapsed": false,
    "ExecuteTime": {
     "end_time": "2024-03-03T20:56:46.479298Z",
     "start_time": "2024-03-03T20:56:46.459530Z"
    }
   },
   "id": "8038336fea0797b3"
  },
  {
   "cell_type": "code",
   "execution_count": 180,
   "outputs": [],
   "source": [
    "movies = pa.array(movies)\n",
    "writers = pa.array(writers)\n",
    "names = ['movie', 'writer']\n",
    "table = pa.Table.from_arrays([movies, writers], names=names)\n",
    "pq.write_table(table, project_dir + \"/data_parquet/writing.parquet\")"
   ],
   "metadata": {
    "collapsed": false,
    "ExecuteTime": {
     "end_time": "2024-03-03T20:56:46.725003Z",
     "start_time": "2024-03-03T20:56:46.706603Z"
    }
   },
   "id": "b9a0da798c7df9d6"
  },
  {
   "cell_type": "code",
   "execution_count": 267,
   "outputs": [
    {
     "name": "stdout",
     "output_type": "stream",
     "text": [
      "Reading file  /Users/martinarnold/uva/bigdata/big_data/data/validation_hidden.csv\n",
      "Writing validation_hidden.parquet to /Users/martinarnold/uva/bigdata/big_data/data_parquet/validation_hidden.parquet...\n"
     ]
    }
   ],
   "source": [
    "convert_to_parquet(data_dir+\"/validation_hidden.csv\", parquet_folder)"
   ],
   "metadata": {
    "collapsed": false,
    "ExecuteTime": {
     "end_time": "2024-03-03T21:19:50.179824Z",
     "start_time": "2024-03-03T21:19:50.117733Z"
    }
   },
   "id": "1c2d485a66691bbe"
  },
  {
   "cell_type": "markdown",
   "source": [
    "# 2. Cleaning"
   ],
   "metadata": {
    "collapsed": false
   },
   "id": "ae603de100e23ced"
  },
  {
   "cell_type": "code",
   "execution_count": 181,
   "outputs": [],
   "source": [
    "from unidecode import unidecode"
   ],
   "metadata": {
    "collapsed": false,
    "ExecuteTime": {
     "end_time": "2024-03-03T20:56:47.172300Z",
     "start_time": "2024-03-03T20:56:47.150752Z"
    }
   },
   "id": "e11c259e74d958e"
  },
  {
   "cell_type": "code",
   "execution_count": 182,
   "outputs": [],
   "source": [
    "import duckdb\n",
    "from duckdb.typing import *"
   ],
   "metadata": {
    "collapsed": false,
    "ExecuteTime": {
     "end_time": "2024-03-03T20:56:47.406560Z",
     "start_time": "2024-03-03T20:56:47.392673Z"
    }
   },
   "id": "fb7dd4d10dda6cac"
  },
  {
   "cell_type": "code",
   "execution_count": 183,
   "outputs": [
    {
     "data": {
      "text/plain": "<duckdb.duckdb.DuckDBPyConnection at 0x176d24670>"
     },
     "execution_count": 183,
     "metadata": {},
     "output_type": "execute_result"
    }
   ],
   "source": [
    "# some DuckDB setup\n",
    "con = duckdb.connect()\n",
    "# enable automatic query parallelization\n",
    "con.execute(\"PRAGMA threads=2\")\n",
    "# enable caching of parquet metadata\n",
    "con.execute(\"PRAGMA enable_object_cache\")"
   ],
   "metadata": {
    "collapsed": false,
    "ExecuteTime": {
     "end_time": "2024-03-03T20:56:47.693808Z",
     "start_time": "2024-03-03T20:56:47.685582Z"
    }
   },
   "id": "a091f202763c0774"
  },
  {
   "cell_type": "code",
   "execution_count": 184,
   "outputs": [],
   "source": [
    "def convert_to_ascii(input_string):\n",
    "    return unidecode(input_string)"
   ],
   "metadata": {
    "collapsed": false,
    "ExecuteTime": {
     "end_time": "2024-03-03T20:56:47.862812Z",
     "start_time": "2024-03-03T20:56:47.849887Z"
    }
   },
   "id": "c7c9a1f04a54d28c"
  },
  {
   "cell_type": "code",
   "execution_count": 185,
   "outputs": [
    {
     "data": {
      "text/plain": "<duckdb.duckdb.DuckDBPyConnection at 0x176d24670>"
     },
     "execution_count": 185,
     "metadata": {},
     "output_type": "execute_result"
    }
   ],
   "source": [
    "con.create_function('to_ascii', convert_to_ascii, [VARCHAR], VARCHAR)"
   ],
   "metadata": {
    "collapsed": false,
    "ExecuteTime": {
     "end_time": "2024-03-03T20:56:48.224559Z",
     "start_time": "2024-03-03T20:56:48.210637Z"
    }
   },
   "id": "4d7d0228a836d0dd"
  },
  {
   "cell_type": "code",
   "execution_count": 226,
   "outputs": [],
   "source": [
    "train = \"'data_parquet/train-*.parquet'\"\n",
    "directing = \"'data_parquet/directing.parquet'\"\n",
    "writing = \"'data_parquet/writing.parquet'\""
   ],
   "metadata": {
    "collapsed": false,
    "ExecuteTime": {
     "end_time": "2024-03-03T21:08:14.621714Z",
     "start_time": "2024-03-03T21:08:14.600529Z"
    }
   },
   "id": "2f9a803c7eeae8c1"
  },
  {
   "cell_type": "code",
   "execution_count": 187,
   "outputs": [],
   "source": [
    "query = f\"\"\"\n",
    "     with train as (\n",
    "        select *\n",
    "        from {train}\n",
    "        ),\n",
    "    directing as (\n",
    "        select \n",
    "            movie\n",
    "            , director\n",
    "        from {directing}\n",
    "        group by movie, director),\n",
    "    writing as (\n",
    "        select \n",
    "            movie\n",
    "            , writer\n",
    "        from {writing}\n",
    "        group by movie, writer),\n",
    "    clean_data as (\n",
    "        select \n",
    "            try_cast(tconst as varchar) as tconst\n",
    "            , try_cast(primaryTitle as varchar) as primaryTitle\n",
    "            , try_cast(originalTitle as varchar) as originalTitle\n",
    "            , try_cast(runtimeMinutes as integer) as runtimeMinutes\n",
    "            , try_cast(numVotes as integer) as numVotes\n",
    "            , to_ascii(primaryTitle) as title\n",
    "            , try_cast(startYear as integer) as yearStart, \n",
    "            try_cast(endYear as integer) as yearEnd,\n",
    "            case \n",
    "                when yearStart is not null and yearEnd is null then yearStart\n",
    "                when yearStart is NULL and yearEnd is not NULL then yearEnd\n",
    "                else yearStart\n",
    "                end as year,\n",
    "                label \n",
    "                , case\n",
    "                    when director = '\\\\N' then null\n",
    "                    else try_cast(director as varchar)\n",
    "                    end as director\n",
    "                , case\n",
    "                    when writer = '\\\\N' then null\n",
    "                    else try_cast(writer as varchar)\n",
    "                    end as writer\n",
    "            ,case\n",
    "                when title != originalTitle and originalTitle != '' then True\n",
    "                else False\n",
    "            end as foreign_movie\n",
    "            , case \n",
    "                when label = True then 1\n",
    "                else 0\n",
    "                end as label_int\n",
    "        from train left outer join directing\n",
    "        on train.tconst = directing.movie\n",
    "        left outer join writing\n",
    "        on train.tconst = writing.movie\n",
    "    ),\n",
    "    director_rating as (\n",
    "        select \n",
    "            director\n",
    "            , count(distinct tconst) as n_successes_dir\n",
    "        from clean_data\n",
    "        where label=True\n",
    "        group by director\n",
    "    ), \n",
    "    writer_rating as (\n",
    "        select \n",
    "                writer\n",
    "                , count(distinct tconst) as n_successes_wri\n",
    "            from clean_data\n",
    "            where label=True\n",
    "            group by writer\n",
    "    )\n",
    "    select \n",
    "        tconst\n",
    "        ,title \n",
    "        ,year\n",
    "        , foreign_movie\n",
    "        , runtimeMinutes\n",
    "        , numVotes\n",
    "        ,listagg(distinct clean_data.director, ', ') as directors\n",
    "        ,listagg(distinct clean_data.writer, ', ') as writers\n",
    "        ,len(directors) as n_directors\n",
    "        ,len(writers) as n_writers\n",
    "        , len(title) as title_length\n",
    "        ,label\n",
    "        , sum(n_successes_dir) as n_successes_dir\n",
    "        , sum(n_successes_wri) as n_successes_wri\n",
    "    from clean_data\n",
    "    left outer join director_rating on clean_data.director = director_rating.director\n",
    "    left outer join writer_rating on clean_data.writer = writer_rating.writer\n",
    "    group by tconst, title, year, foreign_movie, label, runtimeMinutes, numVotes\n",
    "        \n",
    "    \n",
    "\"\"\""
   ],
   "metadata": {
    "collapsed": false,
    "ExecuteTime": {
     "end_time": "2024-03-03T20:56:48.776763Z",
     "start_time": "2024-03-03T20:56:48.745333Z"
    }
   },
   "id": "7c25974ee875928e"
  },
  {
   "cell_type": "code",
   "execution_count": 188,
   "outputs": [],
   "source": [
    "aggregated = con.execute(query).df()"
   ],
   "metadata": {
    "collapsed": false,
    "ExecuteTime": {
     "end_time": "2024-03-03T20:56:49.323597Z",
     "start_time": "2024-03-03T20:56:49.217144Z"
    }
   },
   "id": "a30a2221b77990fd"
  },
  {
   "cell_type": "code",
   "execution_count": 189,
   "outputs": [
    {
     "data": {
      "text/plain": "          tconst                  title  year  foreign_movie  runtimeMinutes  \\\n0      tt0010600               The Doll  1919           True            66.0   \n1      tt0028333             Swing Time  1936          False           103.0   \n2      tt0034862            Holiday Inn  1942          False           100.0   \n3      tt0036260           Phantom Lady  1944          False            87.0   \n4      tt0037055  The Mask of Dimitrios  1944          False            95.0   \n...          ...                    ...   ...            ...             ...   \n7954   tt5913184               Spitfire  2018          False            99.0   \n7955   tt0056930     A Child Is Waiting  1963          False           102.0   \n7956   tt4126304            Cartel Land  2015          False           100.0   \n7957   tt0349467            Freedomland  2006          False           113.0   \n7958  tt10327252      The Forever Purge  2021          False           103.0   \n\n      numVotes             directors  \\\n0       1898.0             nm0523932   \n1          NaN             nm0828419   \n2      14436.0  nm0020980, nm0762263   \n3       4833.0             nm0802563   \n4       3530.0             nm0624535   \n...        ...                   ...   \n7954    1054.0  nm1406508, nm1116645   \n7955    2842.0             nm0001023   \n7956   18265.0             nm1292648   \n7957   16091.0             nm0005387   \n7958   24102.0             nm0332740   \n\n                                                writers  n_directors  \\\n0            nm0473134, nm0932559, nm0523932, nm0006782          9.0   \n1     nm0949130, nm0416861, nm0391750, nm0892044, nm...          9.0   \n2     nm0616893, nm0000927, nm0723418, nm0083125, nm...         20.0   \n3                                  nm0941280, nm0774441          9.0   \n4                                  nm0001907, nm0344246          9.0   \n...                                                 ...          ...   \n7954                                               None         20.0   \n7955                                          nm0542631          9.0   \n7956                                               None          9.0   \n7957                                          nm0697115          9.0   \n7958                                          nm0218621          9.0   \n\n      n_writers  title_length  label  n_successes_dir  n_successes_wri  \n0          42.0             8   True             32.0              7.0  \n1          75.0            10   True             35.0             16.0  \n2          75.0            11   True             21.0             20.0  \n3          20.0            12   True              6.0              6.0  \n4          20.0            21   True              6.0              6.0  \n...         ...           ...    ...              ...              ...  \n7954        NaN             8   True              3.0              NaN  \n7955        9.0            18   True              4.0              3.0  \n7956        NaN            11   True              2.0              NaN  \n7957        9.0            11  False              NaN              1.0  \n7958        9.0            17  False              NaN              1.0  \n\n[7959 rows x 14 columns]",
      "text/html": "<div>\n<style scoped>\n    .dataframe tbody tr th:only-of-type {\n        vertical-align: middle;\n    }\n\n    .dataframe tbody tr th {\n        vertical-align: top;\n    }\n\n    .dataframe thead th {\n        text-align: right;\n    }\n</style>\n<table border=\"1\" class=\"dataframe\">\n  <thead>\n    <tr style=\"text-align: right;\">\n      <th></th>\n      <th>tconst</th>\n      <th>title</th>\n      <th>year</th>\n      <th>foreign_movie</th>\n      <th>runtimeMinutes</th>\n      <th>numVotes</th>\n      <th>directors</th>\n      <th>writers</th>\n      <th>n_directors</th>\n      <th>n_writers</th>\n      <th>title_length</th>\n      <th>label</th>\n      <th>n_successes_dir</th>\n      <th>n_successes_wri</th>\n    </tr>\n  </thead>\n  <tbody>\n    <tr>\n      <th>0</th>\n      <td>tt0010600</td>\n      <td>The Doll</td>\n      <td>1919</td>\n      <td>True</td>\n      <td>66.0</td>\n      <td>1898.0</td>\n      <td>nm0523932</td>\n      <td>nm0473134, nm0932559, nm0523932, nm0006782</td>\n      <td>9.0</td>\n      <td>42.0</td>\n      <td>8</td>\n      <td>True</td>\n      <td>32.0</td>\n      <td>7.0</td>\n    </tr>\n    <tr>\n      <th>1</th>\n      <td>tt0028333</td>\n      <td>Swing Time</td>\n      <td>1936</td>\n      <td>False</td>\n      <td>103.0</td>\n      <td>NaN</td>\n      <td>nm0828419</td>\n      <td>nm0949130, nm0416861, nm0391750, nm0892044, nm...</td>\n      <td>9.0</td>\n      <td>75.0</td>\n      <td>10</td>\n      <td>True</td>\n      <td>35.0</td>\n      <td>16.0</td>\n    </tr>\n    <tr>\n      <th>2</th>\n      <td>tt0034862</td>\n      <td>Holiday Inn</td>\n      <td>1942</td>\n      <td>False</td>\n      <td>100.0</td>\n      <td>14436.0</td>\n      <td>nm0020980, nm0762263</td>\n      <td>nm0616893, nm0000927, nm0723418, nm0083125, nm...</td>\n      <td>20.0</td>\n      <td>75.0</td>\n      <td>11</td>\n      <td>True</td>\n      <td>21.0</td>\n      <td>20.0</td>\n    </tr>\n    <tr>\n      <th>3</th>\n      <td>tt0036260</td>\n      <td>Phantom Lady</td>\n      <td>1944</td>\n      <td>False</td>\n      <td>87.0</td>\n      <td>4833.0</td>\n      <td>nm0802563</td>\n      <td>nm0941280, nm0774441</td>\n      <td>9.0</td>\n      <td>20.0</td>\n      <td>12</td>\n      <td>True</td>\n      <td>6.0</td>\n      <td>6.0</td>\n    </tr>\n    <tr>\n      <th>4</th>\n      <td>tt0037055</td>\n      <td>The Mask of Dimitrios</td>\n      <td>1944</td>\n      <td>False</td>\n      <td>95.0</td>\n      <td>3530.0</td>\n      <td>nm0624535</td>\n      <td>nm0001907, nm0344246</td>\n      <td>9.0</td>\n      <td>20.0</td>\n      <td>21</td>\n      <td>True</td>\n      <td>6.0</td>\n      <td>6.0</td>\n    </tr>\n    <tr>\n      <th>...</th>\n      <td>...</td>\n      <td>...</td>\n      <td>...</td>\n      <td>...</td>\n      <td>...</td>\n      <td>...</td>\n      <td>...</td>\n      <td>...</td>\n      <td>...</td>\n      <td>...</td>\n      <td>...</td>\n      <td>...</td>\n      <td>...</td>\n      <td>...</td>\n    </tr>\n    <tr>\n      <th>7954</th>\n      <td>tt5913184</td>\n      <td>Spitfire</td>\n      <td>2018</td>\n      <td>False</td>\n      <td>99.0</td>\n      <td>1054.0</td>\n      <td>nm1406508, nm1116645</td>\n      <td>None</td>\n      <td>20.0</td>\n      <td>NaN</td>\n      <td>8</td>\n      <td>True</td>\n      <td>3.0</td>\n      <td>NaN</td>\n    </tr>\n    <tr>\n      <th>7955</th>\n      <td>tt0056930</td>\n      <td>A Child Is Waiting</td>\n      <td>1963</td>\n      <td>False</td>\n      <td>102.0</td>\n      <td>2842.0</td>\n      <td>nm0001023</td>\n      <td>nm0542631</td>\n      <td>9.0</td>\n      <td>9.0</td>\n      <td>18</td>\n      <td>True</td>\n      <td>4.0</td>\n      <td>3.0</td>\n    </tr>\n    <tr>\n      <th>7956</th>\n      <td>tt4126304</td>\n      <td>Cartel Land</td>\n      <td>2015</td>\n      <td>False</td>\n      <td>100.0</td>\n      <td>18265.0</td>\n      <td>nm1292648</td>\n      <td>None</td>\n      <td>9.0</td>\n      <td>NaN</td>\n      <td>11</td>\n      <td>True</td>\n      <td>2.0</td>\n      <td>NaN</td>\n    </tr>\n    <tr>\n      <th>7957</th>\n      <td>tt0349467</td>\n      <td>Freedomland</td>\n      <td>2006</td>\n      <td>False</td>\n      <td>113.0</td>\n      <td>16091.0</td>\n      <td>nm0005387</td>\n      <td>nm0697115</td>\n      <td>9.0</td>\n      <td>9.0</td>\n      <td>11</td>\n      <td>False</td>\n      <td>NaN</td>\n      <td>1.0</td>\n    </tr>\n    <tr>\n      <th>7958</th>\n      <td>tt10327252</td>\n      <td>The Forever Purge</td>\n      <td>2021</td>\n      <td>False</td>\n      <td>103.0</td>\n      <td>24102.0</td>\n      <td>nm0332740</td>\n      <td>nm0218621</td>\n      <td>9.0</td>\n      <td>9.0</td>\n      <td>17</td>\n      <td>False</td>\n      <td>NaN</td>\n      <td>1.0</td>\n    </tr>\n  </tbody>\n</table>\n<p>7959 rows × 14 columns</p>\n</div>"
     },
     "execution_count": 189,
     "metadata": {},
     "output_type": "execute_result"
    }
   ],
   "source": [
    "aggregated"
   ],
   "metadata": {
    "collapsed": false,
    "ExecuteTime": {
     "end_time": "2024-03-03T20:56:49.550618Z",
     "start_time": "2024-03-03T20:56:49.538267Z"
    }
   },
   "id": "10bf85656d76224"
  },
  {
   "cell_type": "code",
   "execution_count": 190,
   "outputs": [],
   "source": [
    "query = f\"\"\"\n",
    "    with train as (\n",
    "        select *\n",
    "        from {train}\n",
    "        ),\n",
    "    directing as (\n",
    "        select \n",
    "            movie\n",
    "            , director\n",
    "        from {directing}\n",
    "        group by movie, director),\n",
    "    writing as (\n",
    "        select \n",
    "            movie\n",
    "            , writer\n",
    "        from {writing}\n",
    "        group by movie, writer),\n",
    "   clean_data as (\n",
    "        select \n",
    "            try_cast(tconst as varchar) as tconst\n",
    "            , try_cast(primaryTitle as varchar) as primaryTitle\n",
    "            , try_cast(originalTitle as varchar) as originalTitle\n",
    "            , try_cast(runtimeMinutes as integer) as runtimeMinutes\n",
    "            , try_cast(numVotes as integer) as numVotes\n",
    "            , to_ascii(primaryTitle) as title\n",
    "            , try_cast(startYear as integer) as yearStart, \n",
    "            try_cast(endYear as integer) as yearEnd,\n",
    "            case \n",
    "                when yearStart is not null and yearEnd is null then yearStart\n",
    "                when yearStart is NULL and yearEnd is not NULL then yearEnd\n",
    "                else yearStart\n",
    "                end as year,\n",
    "                label \n",
    "                , case\n",
    "                    when director = '\\\\N' then null\n",
    "                    else try_cast(director as varchar)\n",
    "                    end as director\n",
    "                , case\n",
    "                    when writer = '\\\\N' then null\n",
    "                    else try_cast(writer as varchar)\n",
    "                    end as writer\n",
    "            ,case\n",
    "                when title != originalTitle and originalTitle != '' then True\n",
    "                else False\n",
    "            end as foreign_movie\n",
    "        from train left outer join directing\n",
    "        on train.tconst = directing.movie\n",
    "        left outer join writing\n",
    "        on train.tconst = writing.movie\n",
    "    )\n",
    "    select \n",
    "        *\n",
    "    from clean_data\n",
    "        \n",
    "    \n",
    "\"\"\""
   ],
   "metadata": {
    "collapsed": false,
    "ExecuteTime": {
     "end_time": "2024-03-03T20:56:50.268120Z",
     "start_time": "2024-03-03T20:56:50.232829Z"
    }
   },
   "id": "290c116ee8fccb94"
  },
  {
   "cell_type": "code",
   "execution_count": 191,
   "outputs": [],
   "source": [
    "non_agg = con.execute(query).df()"
   ],
   "metadata": {
    "collapsed": false,
    "ExecuteTime": {
     "end_time": "2024-03-03T20:56:50.775071Z",
     "start_time": "2024-03-03T20:56:50.698645Z"
    }
   },
   "id": "b57e639e925bad7f"
  },
  {
   "cell_type": "markdown",
   "source": [
    "# 3. Get train set"
   ],
   "metadata": {
    "collapsed": false
   },
   "id": "e075a98a7226a3a"
  },
  {
   "cell_type": "code",
   "execution_count": 192,
   "outputs": [],
   "source": [
    "query = f\"\"\"\n",
    "     with train as (\n",
    "        select *\n",
    "        from {train}\n",
    "        ),\n",
    "    directing as (\n",
    "        select \n",
    "            movie\n",
    "            , director\n",
    "        from {directing}\n",
    "        group by movie, director),\n",
    "    writing as (\n",
    "        select \n",
    "            movie\n",
    "            , writer\n",
    "        from {writing}\n",
    "        group by movie, writer),\n",
    "    clean_data as (\n",
    "        select \n",
    "            try_cast(tconst as varchar) as tconst\n",
    "            , try_cast(primaryTitle as varchar) as primaryTitle\n",
    "            , try_cast(originalTitle as varchar) as originalTitle\n",
    "            , try_cast(runtimeMinutes as integer) as runtimeMinutes\n",
    "            , try_cast(numVotes as integer) as numVotes\n",
    "            , to_ascii(primaryTitle) as title\n",
    "            , try_cast(startYear as integer) as yearStart, \n",
    "            try_cast(endYear as integer) as yearEnd,\n",
    "            case \n",
    "                when yearStart is not null and yearEnd is null then yearStart\n",
    "                when yearStart is NULL and yearEnd is not NULL then yearEnd\n",
    "                else yearStart\n",
    "                end as year,\n",
    "                label \n",
    "                , case\n",
    "                    when director = '\\\\N' then null\n",
    "                    else try_cast(director as varchar)\n",
    "                    end as director\n",
    "                , case\n",
    "                    when writer = '\\\\N' then null\n",
    "                    else try_cast(writer as varchar)\n",
    "                    end as writer\n",
    "            ,case\n",
    "                when title != originalTitle and originalTitle != '' then True\n",
    "                else False\n",
    "            end as foreign_movie\n",
    "            , case \n",
    "                when label = True then 1\n",
    "                else 0\n",
    "                end as label_int\n",
    "        from train left outer join directing\n",
    "        on train.tconst = directing.movie\n",
    "        left outer join writing\n",
    "        on train.tconst = writing.movie\n",
    "    ),\n",
    "    director_rating as (\n",
    "        select \n",
    "            director\n",
    "            , count(distinct tconst) as n_successes_dir\n",
    "        from clean_data\n",
    "        where label=True\n",
    "        group by director\n",
    "    ), \n",
    "    writer_rating as (\n",
    "        select \n",
    "                writer\n",
    "                , count(distinct tconst) as n_successes_wri\n",
    "            from clean_data\n",
    "            where label=True\n",
    "            group by writer\n",
    "    ),\n",
    "    aggregated as (\n",
    "        select \n",
    "            tconst\n",
    "            ,title \n",
    "            ,year\n",
    "            , foreign_movie\n",
    "            , runtimeMinutes\n",
    "            , numVotes\n",
    "            ,listagg(distinct clean_data.director, ', ') as directors\n",
    "            ,listagg(distinct clean_data.writer, ', ') as writers\n",
    "            ,len(directors) as n_directors\n",
    "            ,len(writers) as n_writers\n",
    "            , len(title) as title_length\n",
    "            ,label\n",
    "            , sum(n_successes_dir) as n_successes_dir\n",
    "            , sum(n_successes_wri) as n_successes_wri\n",
    "        from clean_data\n",
    "        left outer join director_rating on clean_data.director = director_rating.director\n",
    "        left outer join writer_rating on clean_data.writer = writer_rating.writer\n",
    "        group by tconst, title, year, foreign_movie, label, runtimeMinutes, numVotes\n",
    "    )\n",
    "    select \n",
    "        tconst\n",
    "        , year\n",
    "        , foreign_movie\n",
    "        , runtimeMinutes\n",
    "        , numVotes\n",
    "        , title_length\n",
    "        , label\n",
    "        , case \n",
    "            when n_successes_dir is null then 0\n",
    "            else n_successes_dir\n",
    "            end as n_successes_dir\n",
    "        , case \n",
    "            when n_successes_wri is null then 0\n",
    "            else n_successes_wri\n",
    "            end as n_successes_wri\n",
    "    from aggregated\n",
    "\"\"\""
   ],
   "metadata": {
    "collapsed": false,
    "ExecuteTime": {
     "end_time": "2024-03-03T20:56:51.569270Z",
     "start_time": "2024-03-03T20:56:51.532207Z"
    }
   },
   "id": "50b12e95090e71a9"
  },
  {
   "cell_type": "code",
   "execution_count": 193,
   "outputs": [],
   "source": [
    "train_data = con.execute(query).df()"
   ],
   "metadata": {
    "collapsed": false,
    "ExecuteTime": {
     "end_time": "2024-03-03T20:56:52.248661Z",
     "start_time": "2024-03-03T20:56:52.166588Z"
    }
   },
   "id": "6245fe3fcbd194c5"
  },
  {
   "cell_type": "code",
   "execution_count": 194,
   "outputs": [
    {
     "name": "stdout",
     "output_type": "stream",
     "text": [
      "<class 'pandas.core.frame.DataFrame'>\n",
      "RangeIndex: 7959 entries, 0 to 7958\n",
      "Data columns (total 9 columns):\n",
      " #   Column           Non-Null Count  Dtype  \n",
      "---  ------           --------------  -----  \n",
      " 0   tconst           7959 non-null   object \n",
      " 1   year             7959 non-null   int32  \n",
      " 2   foreign_movie    7959 non-null   bool   \n",
      " 3   runtimeMinutes   7946 non-null   float64\n",
      " 4   numVotes         7169 non-null   float64\n",
      " 5   title_length     7959 non-null   int64  \n",
      " 6   label            7959 non-null   bool   \n",
      " 7   n_successes_dir  7959 non-null   float64\n",
      " 8   n_successes_wri  7959 non-null   float64\n",
      "dtypes: bool(2), float64(4), int32(1), int64(1), object(1)\n",
      "memory usage: 419.8+ KB\n"
     ]
    }
   ],
   "source": [
    "train_data.info()"
   ],
   "metadata": {
    "collapsed": false,
    "ExecuteTime": {
     "end_time": "2024-03-03T20:56:52.481263Z",
     "start_time": "2024-03-03T20:56:52.467962Z"
    }
   },
   "id": "6bd278933784e15f"
  },
  {
   "cell_type": "code",
   "execution_count": 195,
   "outputs": [],
   "source": [
    "df_train_data = train_data.dropna()"
   ],
   "metadata": {
    "collapsed": false,
    "ExecuteTime": {
     "end_time": "2024-03-03T20:56:53.057028Z",
     "start_time": "2024-03-03T20:56:53.042432Z"
    }
   },
   "id": "6b6d51294a8e621f"
  },
  {
   "cell_type": "code",
   "execution_count": 196,
   "outputs": [],
   "source": [
    "X = df_train_data.drop(['tconst', 'label'], axis=1).values\n",
    "y = df_train_data.loc[:, 'label'].values"
   ],
   "metadata": {
    "collapsed": false,
    "ExecuteTime": {
     "end_time": "2024-03-03T20:56:53.418512Z",
     "start_time": "2024-03-03T20:56:53.402978Z"
    }
   },
   "id": "a4b1abe4851a6c3a"
  },
  {
   "cell_type": "code",
   "execution_count": 197,
   "outputs": [],
   "source": [
    "from sklearn.model_selection import train_test_split"
   ],
   "metadata": {
    "collapsed": false,
    "ExecuteTime": {
     "end_time": "2024-03-03T20:56:54.086328Z",
     "start_time": "2024-03-03T20:56:54.070001Z"
    }
   },
   "id": "bd8d9fc889342ba0"
  },
  {
   "cell_type": "code",
   "execution_count": 198,
   "outputs": [],
   "source": [
    "X_train, X_test, y_train, y_test = train_test_split(X, y, test_size=0.2, random_state=42)"
   ],
   "metadata": {
    "collapsed": false,
    "ExecuteTime": {
     "end_time": "2024-03-03T20:56:55.076154Z",
     "start_time": "2024-03-03T20:56:55.053575Z"
    }
   },
   "id": "dce9b610c3c727d"
  },
  {
   "cell_type": "code",
   "execution_count": 199,
   "outputs": [],
   "source": [
    "from sklearn.ensemble import AdaBoostClassifier, RandomForestClassifier\n",
    "from sklearn.linear_model import LogisticRegression\n",
    "from sklearn.svm import SVC\n",
    "from sklearn.tree import DecisionTreeClassifier\n",
    "from sklearn.neighbors import KNeighborsClassifier"
   ],
   "metadata": {
    "collapsed": false,
    "ExecuteTime": {
     "end_time": "2024-03-03T20:56:55.783155Z",
     "start_time": "2024-03-03T20:56:55.766311Z"
    }
   },
   "id": "901e4240503f9f5b"
  },
  {
   "cell_type": "code",
   "execution_count": 200,
   "outputs": [],
   "source": [
    "names = [\n",
    "    \"Nearest Neighbors\",\n",
    "    \"Linear SVM\",\n",
    "    \"Decision Tree\",\n",
    "    \"Random Forest\",\n",
    "    \"AdaBoost\",\n",
    "    \"Logistic Regression\",\n",
    "]"
   ],
   "metadata": {
    "collapsed": false,
    "ExecuteTime": {
     "end_time": "2024-03-03T20:56:56.389410Z",
     "start_time": "2024-03-03T20:56:56.344678Z"
    }
   },
   "id": "7c0c738e5254c805"
  },
  {
   "cell_type": "code",
   "execution_count": 201,
   "outputs": [],
   "source": [
    "classifiers = [\n",
    "    KNeighborsClassifier(3),\n",
    "    SVC(kernel=\"linear\", C=0.025, random_state=42),\n",
    "    DecisionTreeClassifier(max_depth=5, random_state=42),\n",
    "    RandomForestClassifier(\n",
    "        max_depth=5, n_estimators=10, max_features=1, random_state=42\n",
    "    ),\n",
    "    AdaBoostClassifier(algorithm=\"SAMME\", random_state=42),\n",
    "    LogisticRegression(random_state=0),\n",
    "]"
   ],
   "metadata": {
    "collapsed": false,
    "ExecuteTime": {
     "end_time": "2024-03-03T20:56:56.656065Z",
     "start_time": "2024-03-03T20:56:56.641609Z"
    }
   },
   "id": "1df575ef129aa3d6"
  },
  {
   "cell_type": "code",
   "execution_count": 202,
   "outputs": [],
   "source": [
    "datasets = [(X, y)]"
   ],
   "metadata": {
    "collapsed": false,
    "ExecuteTime": {
     "end_time": "2024-03-03T20:56:57.369768Z",
     "start_time": "2024-03-03T20:56:57.350522Z"
    }
   },
   "id": "ccfb7865125d17d0"
  },
  {
   "cell_type": "code",
   "execution_count": 203,
   "outputs": [],
   "source": [
    "import matplotlib.pyplot as plt\n",
    "from matplotlib.colors import ListedColormap\n",
    "from sklearn.pipeline import make_pipeline\n",
    "from sklearn.preprocessing import StandardScaler\n",
    "from sklearn.inspection import DecisionBoundaryDisplay"
   ],
   "metadata": {
    "collapsed": false,
    "ExecuteTime": {
     "end_time": "2024-03-03T20:56:57.732836Z",
     "start_time": "2024-03-03T20:56:57.715919Z"
    }
   },
   "id": "a41f0ed1bd1d3b7f"
  },
  {
   "cell_type": "code",
   "execution_count": 204,
   "outputs": [
    {
     "name": "stdout",
     "output_type": "stream",
     "text": [
      "Training  Nearest Neighbors\n",
      "0.8152287809989521\n",
      "Training  Linear SVM\n",
      "0.8190709046454768\n",
      "Training  Decision Tree\n",
      "0.9381767376877401\n",
      "Training  Random Forest\n",
      "0.9280475026196298\n",
      "Training  AdaBoost\n",
      "0.9430667132378624\n",
      "Training  Logistic Regression\n",
      "0.8232623122598672\n"
     ]
    }
   ],
   "source": [
    "# preprocess dataset, split into training and test part\n",
    "X_train, X_test, y_train, y_test = train_test_split(X, y, test_size=0.4, random_state=42)\n",
    "\n",
    "# iterate over classifiers\n",
    "for name, clf in zip(names, classifiers):\n",
    "    print(\"Training \", name)\n",
    "\n",
    "    clf = make_pipeline(StandardScaler(), clf)\n",
    "    clf.fit(X_train, y_train)\n",
    "    score = clf.score(X_test, y_test)\n",
    "    print(score)\n"
   ],
   "metadata": {
    "collapsed": false,
    "ExecuteTime": {
     "end_time": "2024-03-03T20:56:58.506270Z",
     "start_time": "2024-03-03T20:56:58.120388Z"
    }
   },
   "id": "3a6060bb3efa1a25"
  },
  {
   "cell_type": "code",
   "execution_count": 236,
   "outputs": [
    {
     "data": {
      "text/plain": "Pipeline(steps=[('standardscaler', StandardScaler()),\n                ('adaboostclassifier',\n                 AdaBoostClassifier(algorithm='SAMME', random_state=42))])",
      "text/html": "<style>#sk-container-id-1 {color: black;}#sk-container-id-1 pre{padding: 0;}#sk-container-id-1 div.sk-toggleable {background-color: white;}#sk-container-id-1 label.sk-toggleable__label {cursor: pointer;display: block;width: 100%;margin-bottom: 0;padding: 0.3em;box-sizing: border-box;text-align: center;}#sk-container-id-1 label.sk-toggleable__label-arrow:before {content: \"▸\";float: left;margin-right: 0.25em;color: #696969;}#sk-container-id-1 label.sk-toggleable__label-arrow:hover:before {color: black;}#sk-container-id-1 div.sk-estimator:hover label.sk-toggleable__label-arrow:before {color: black;}#sk-container-id-1 div.sk-toggleable__content {max-height: 0;max-width: 0;overflow: hidden;text-align: left;background-color: #f0f8ff;}#sk-container-id-1 div.sk-toggleable__content pre {margin: 0.2em;color: black;border-radius: 0.25em;background-color: #f0f8ff;}#sk-container-id-1 input.sk-toggleable__control:checked~div.sk-toggleable__content {max-height: 200px;max-width: 100%;overflow: auto;}#sk-container-id-1 input.sk-toggleable__control:checked~label.sk-toggleable__label-arrow:before {content: \"▾\";}#sk-container-id-1 div.sk-estimator input.sk-toggleable__control:checked~label.sk-toggleable__label {background-color: #d4ebff;}#sk-container-id-1 div.sk-label input.sk-toggleable__control:checked~label.sk-toggleable__label {background-color: #d4ebff;}#sk-container-id-1 input.sk-hidden--visually {border: 0;clip: rect(1px 1px 1px 1px);clip: rect(1px, 1px, 1px, 1px);height: 1px;margin: -1px;overflow: hidden;padding: 0;position: absolute;width: 1px;}#sk-container-id-1 div.sk-estimator {font-family: monospace;background-color: #f0f8ff;border: 1px dotted black;border-radius: 0.25em;box-sizing: border-box;margin-bottom: 0.5em;}#sk-container-id-1 div.sk-estimator:hover {background-color: #d4ebff;}#sk-container-id-1 div.sk-parallel-item::after {content: \"\";width: 100%;border-bottom: 1px solid gray;flex-grow: 1;}#sk-container-id-1 div.sk-label:hover label.sk-toggleable__label {background-color: #d4ebff;}#sk-container-id-1 div.sk-serial::before {content: \"\";position: absolute;border-left: 1px solid gray;box-sizing: border-box;top: 0;bottom: 0;left: 50%;z-index: 0;}#sk-container-id-1 div.sk-serial {display: flex;flex-direction: column;align-items: center;background-color: white;padding-right: 0.2em;padding-left: 0.2em;position: relative;}#sk-container-id-1 div.sk-item {position: relative;z-index: 1;}#sk-container-id-1 div.sk-parallel {display: flex;align-items: stretch;justify-content: center;background-color: white;position: relative;}#sk-container-id-1 div.sk-item::before, #sk-container-id-1 div.sk-parallel-item::before {content: \"\";position: absolute;border-left: 1px solid gray;box-sizing: border-box;top: 0;bottom: 0;left: 50%;z-index: -1;}#sk-container-id-1 div.sk-parallel-item {display: flex;flex-direction: column;z-index: 1;position: relative;background-color: white;}#sk-container-id-1 div.sk-parallel-item:first-child::after {align-self: flex-end;width: 50%;}#sk-container-id-1 div.sk-parallel-item:last-child::after {align-self: flex-start;width: 50%;}#sk-container-id-1 div.sk-parallel-item:only-child::after {width: 0;}#sk-container-id-1 div.sk-dashed-wrapped {border: 1px dashed gray;margin: 0 0.4em 0.5em 0.4em;box-sizing: border-box;padding-bottom: 0.4em;background-color: white;}#sk-container-id-1 div.sk-label label {font-family: monospace;font-weight: bold;display: inline-block;line-height: 1.2em;}#sk-container-id-1 div.sk-label-container {text-align: center;}#sk-container-id-1 div.sk-container {/* jupyter's `normalize.less` sets `[hidden] { display: none; }` but bootstrap.min.css set `[hidden] { display: none !important; }` so we also need the `!important` here to be able to override the default hidden behavior on the sphinx rendered scikit-learn.org. See: https://github.com/scikit-learn/scikit-learn/issues/21755 */display: inline-block !important;position: relative;}#sk-container-id-1 div.sk-text-repr-fallback {display: none;}</style><div id=\"sk-container-id-1\" class=\"sk-top-container\"><div class=\"sk-text-repr-fallback\"><pre>Pipeline(steps=[(&#x27;standardscaler&#x27;, StandardScaler()),\n                (&#x27;adaboostclassifier&#x27;,\n                 AdaBoostClassifier(algorithm=&#x27;SAMME&#x27;, random_state=42))])</pre><b>In a Jupyter environment, please rerun this cell to show the HTML representation or trust the notebook. <br />On GitHub, the HTML representation is unable to render, please try loading this page with nbviewer.org.</b></div><div class=\"sk-container\" hidden><div class=\"sk-item sk-dashed-wrapped\"><div class=\"sk-label-container\"><div class=\"sk-label sk-toggleable\"><input class=\"sk-toggleable__control sk-hidden--visually\" id=\"sk-estimator-id-1\" type=\"checkbox\" ><label for=\"sk-estimator-id-1\" class=\"sk-toggleable__label sk-toggleable__label-arrow\">Pipeline</label><div class=\"sk-toggleable__content\"><pre>Pipeline(steps=[(&#x27;standardscaler&#x27;, StandardScaler()),\n                (&#x27;adaboostclassifier&#x27;,\n                 AdaBoostClassifier(algorithm=&#x27;SAMME&#x27;, random_state=42))])</pre></div></div></div><div class=\"sk-serial\"><div class=\"sk-item\"><div class=\"sk-estimator sk-toggleable\"><input class=\"sk-toggleable__control sk-hidden--visually\" id=\"sk-estimator-id-2\" type=\"checkbox\" ><label for=\"sk-estimator-id-2\" class=\"sk-toggleable__label sk-toggleable__label-arrow\">StandardScaler</label><div class=\"sk-toggleable__content\"><pre>StandardScaler()</pre></div></div></div><div class=\"sk-item\"><div class=\"sk-estimator sk-toggleable\"><input class=\"sk-toggleable__control sk-hidden--visually\" id=\"sk-estimator-id-3\" type=\"checkbox\" ><label for=\"sk-estimator-id-3\" class=\"sk-toggleable__label sk-toggleable__label-arrow\">AdaBoostClassifier</label><div class=\"sk-toggleable__content\"><pre>AdaBoostClassifier(algorithm=&#x27;SAMME&#x27;, random_state=42)</pre></div></div></div></div></div></div></div>"
     },
     "execution_count": 236,
     "metadata": {},
     "output_type": "execute_result"
    }
   ],
   "source": [
    "clf = AdaBoostClassifier(algorithm=\"SAMME\", random_state=42)\n",
    "clf = make_pipeline(StandardScaler(), clf)\n",
    "clf.fit(X_train, y_train)"
   ],
   "metadata": {
    "collapsed": false,
    "ExecuteTime": {
     "end_time": "2024-03-03T21:11:28.950812Z",
     "start_time": "2024-03-03T21:11:28.861791Z"
    }
   },
   "id": "758487d6a57540c4"
  },
  {
   "cell_type": "markdown",
   "source": [
    "# Predictions"
   ],
   "metadata": {
    "collapsed": false
   },
   "id": "8f39957e64c4dea7"
  },
  {
   "cell_type": "code",
   "execution_count": 283,
   "outputs": [],
   "source": [
    "validation = \"'data_parquet/validation_hidden.parquet'\"\n",
    "test = \"'data_parquet/test_hidden.parquet'\""
   ],
   "metadata": {
    "collapsed": false,
    "ExecuteTime": {
     "end_time": "2024-03-03T21:25:26.695406Z",
     "start_time": "2024-03-03T21:25:26.678927Z"
    }
   },
   "id": "aaab7bcd2dd46eac"
  },
  {
   "cell_type": "code",
   "execution_count": 284,
   "outputs": [],
   "source": [
    "test_query = f\"\"\"\n",
    "     with train as (\n",
    "        select *\n",
    "        from {train}\n",
    "        ),\n",
    "    test as (\n",
    "        select * \n",
    "        from {test}\n",
    "    )\n",
    "    , directing as (\n",
    "        select \n",
    "            movie\n",
    "            , director\n",
    "        from {directing}\n",
    "        group by movie, director),\n",
    "    writing as (\n",
    "        select \n",
    "            movie\n",
    "            , writer\n",
    "        from {writing}\n",
    "        group by movie, writer),\n",
    "    clean_train_data as (\n",
    "        select \n",
    "            try_cast(tconst as varchar) as tconst\n",
    "            , try_cast(primaryTitle as varchar) as primaryTitle\n",
    "            , try_cast(originalTitle as varchar) as originalTitle\n",
    "            , try_cast(runtimeMinutes as integer) as runtimeMinutes\n",
    "            , try_cast(numVotes as integer) as numVotes\n",
    "            , to_ascii(primaryTitle) as title\n",
    "            , try_cast(startYear as integer) as yearStart, \n",
    "            try_cast(endYear as integer) as yearEnd,\n",
    "            case \n",
    "                when yearStart is not null and yearEnd is null then yearStart\n",
    "                when yearStart is NULL and yearEnd is not NULL then yearEnd\n",
    "                else yearStart\n",
    "                end as year,\n",
    "                label \n",
    "                , case\n",
    "                    when director = '\\\\N' then null\n",
    "                    else try_cast(director as varchar)\n",
    "                    end as director\n",
    "                , case\n",
    "                    when writer = '\\\\N' then null\n",
    "                    else try_cast(writer as varchar)\n",
    "                    end as writer\n",
    "            ,case\n",
    "                when title != originalTitle and originalTitle != '' then True\n",
    "                else False\n",
    "            end as foreign_movie\n",
    "            , case \n",
    "                when label = True then 1\n",
    "                else 0\n",
    "                end as label_int\n",
    "        from train left outer join directing\n",
    "        on train.tconst = directing.movie\n",
    "        left outer join writing\n",
    "        on train.tconst = writing.movie\n",
    "    ),\n",
    "    clean_test_data as (\n",
    "        select \n",
    "            try_cast(tconst as varchar) as tconst\n",
    "            , try_cast(primaryTitle as varchar) as primaryTitle\n",
    "            , try_cast(originalTitle as varchar) as originalTitle\n",
    "            , try_cast(runtimeMinutes as integer) as runtimeMinutes\n",
    "            , try_cast(numVotes as integer) as numVotes\n",
    "            , to_ascii(primaryTitle) as title\n",
    "            , try_cast(startYear as integer) as yearStart, \n",
    "            try_cast(endYear as integer) as yearEnd,\n",
    "            case \n",
    "                when yearStart is not null and yearEnd is null then yearStart\n",
    "                when yearStart is NULL and yearEnd is not NULL then yearEnd\n",
    "                else yearStart\n",
    "                end as year\n",
    "                --, label \n",
    "                , case\n",
    "                    when director = '\\\\N' then null\n",
    "                    else try_cast(director as varchar)\n",
    "                    end as director\n",
    "                , case\n",
    "                    when writer = '\\\\N' then null\n",
    "                    else try_cast(writer as varchar)\n",
    "                    end as writer\n",
    "            ,case\n",
    "                when title != originalTitle and originalTitle != '' then True\n",
    "                else False\n",
    "            end as foreign_movie\n",
    "        from test left outer join directing\n",
    "        on test.tconst = directing.movie\n",
    "        left outer join writing\n",
    "        on test.tconst = writing.movie\n",
    "    ),\n",
    "    director_rating as (\n",
    "        select \n",
    "            director\n",
    "            , count(distinct tconst) as n_successes_dir\n",
    "        from clean_train_data\n",
    "        where label=True\n",
    "        group by director\n",
    "    ), \n",
    "    writer_rating as (\n",
    "        select \n",
    "                writer\n",
    "                , count(distinct tconst) as n_successes_wri\n",
    "            from clean_train_data\n",
    "            where label=True\n",
    "            group by writer\n",
    "    ),\n",
    "    aggregated as (\n",
    "        select \n",
    "            tconst\n",
    "            ,title \n",
    "            ,year\n",
    "            , foreign_movie\n",
    "            , runtimeMinutes\n",
    "            , numVotes\n",
    "            ,listagg(distinct clean_test_data.director, ', ') as directors\n",
    "            ,listagg(distinct clean_test_data.writer, ', ') as writers\n",
    "            ,len(directors) as n_directors\n",
    "            ,len(writers) as n_writers\n",
    "            , len(title) as title_length\n",
    "            --,label\n",
    "            , sum(n_successes_dir) as n_successes_dir\n",
    "            , sum(n_successes_wri) as n_successes_wri\n",
    "        from clean_test_data\n",
    "        left outer join director_rating on clean_test_data.director = director_rating.director\n",
    "        left outer join writer_rating on clean_test_data.writer = writer_rating.writer\n",
    "        group by tconst, title, year, foreign_movie, runtimeMinutes, numVotes\n",
    "    )\n",
    "    select \n",
    "        tconst\n",
    "        , year\n",
    "        , foreign_movie\n",
    "        , runtimeMinutes\n",
    "        , numVotes\n",
    "        , title_length\n",
    "        --, label\n",
    "        , case \n",
    "            when n_successes_dir is null then 0\n",
    "            else n_successes_dir\n",
    "            end as n_successes_dir\n",
    "        , case \n",
    "            when n_successes_wri is null then 0\n",
    "            else n_successes_wri\n",
    "            end as n_successes_wri\n",
    "    from aggregated\n",
    "\"\"\""
   ],
   "metadata": {
    "collapsed": false,
    "ExecuteTime": {
     "end_time": "2024-03-03T21:25:27.609524Z",
     "start_time": "2024-03-03T21:25:27.579762Z"
    }
   },
   "id": "c6353ead0290e650"
  },
  {
   "cell_type": "code",
   "execution_count": 285,
   "outputs": [],
   "source": [
    "test_data = con.execute(test_query).df()"
   ],
   "metadata": {
    "collapsed": false,
    "ExecuteTime": {
     "end_time": "2024-03-03T21:25:28.189736Z",
     "start_time": "2024-03-03T21:25:28.141245Z"
    }
   },
   "id": "43a3b6daad1e2f47"
  },
  {
   "cell_type": "code",
   "execution_count": 286,
   "outputs": [
    {
     "data": {
      "text/plain": "         tconst  year  foreign_movie  runtimeMinutes  numVotes  title_length  \\\n0     tt0069994  1973           True            89.0    3066.0            26   \n1     tt0072930  1975           True            96.0    1395.0            15   \n2     tt0075404  1977           True           111.0    7862.0            10   \n3     tt0079688  1979          False            95.0    6795.0            13   \n4     tt0082406  1981          False            83.0   89382.0            21   \n...         ...   ...            ...             ...       ...           ...   \n1081  tt0114746  1995           True           129.0  599944.0            10   \n1082  tt1124052  2009           True           132.0   10817.0            22   \n1083  tt7897478  2018          False           113.0    2233.0            19   \n1084  tt2193364  2013          False           130.0    4561.0            18   \n1085  tt0051927  1958          False           111.0    1616.0            17   \n\n      n_successes_dir  n_successes_wri  \n0                 0.0              0.0  \n1                 0.0              0.0  \n2                 0.0              0.0  \n3                 0.0              0.0  \n4                18.0             35.0  \n...               ...              ...  \n1081              6.0              1.0  \n1082              1.0              1.0  \n1083              1.0              1.0  \n1084              0.0              1.0  \n1085              1.0              1.0  \n\n[1086 rows x 8 columns]",
      "text/html": "<div>\n<style scoped>\n    .dataframe tbody tr th:only-of-type {\n        vertical-align: middle;\n    }\n\n    .dataframe tbody tr th {\n        vertical-align: top;\n    }\n\n    .dataframe thead th {\n        text-align: right;\n    }\n</style>\n<table border=\"1\" class=\"dataframe\">\n  <thead>\n    <tr style=\"text-align: right;\">\n      <th></th>\n      <th>tconst</th>\n      <th>year</th>\n      <th>foreign_movie</th>\n      <th>runtimeMinutes</th>\n      <th>numVotes</th>\n      <th>title_length</th>\n      <th>n_successes_dir</th>\n      <th>n_successes_wri</th>\n    </tr>\n  </thead>\n  <tbody>\n    <tr>\n      <th>0</th>\n      <td>tt0069994</td>\n      <td>1973</td>\n      <td>True</td>\n      <td>89.0</td>\n      <td>3066.0</td>\n      <td>26</td>\n      <td>0.0</td>\n      <td>0.0</td>\n    </tr>\n    <tr>\n      <th>1</th>\n      <td>tt0072930</td>\n      <td>1975</td>\n      <td>True</td>\n      <td>96.0</td>\n      <td>1395.0</td>\n      <td>15</td>\n      <td>0.0</td>\n      <td>0.0</td>\n    </tr>\n    <tr>\n      <th>2</th>\n      <td>tt0075404</td>\n      <td>1977</td>\n      <td>True</td>\n      <td>111.0</td>\n      <td>7862.0</td>\n      <td>10</td>\n      <td>0.0</td>\n      <td>0.0</td>\n    </tr>\n    <tr>\n      <th>3</th>\n      <td>tt0079688</td>\n      <td>1979</td>\n      <td>False</td>\n      <td>95.0</td>\n      <td>6795.0</td>\n      <td>13</td>\n      <td>0.0</td>\n      <td>0.0</td>\n    </tr>\n    <tr>\n      <th>4</th>\n      <td>tt0082406</td>\n      <td>1981</td>\n      <td>False</td>\n      <td>83.0</td>\n      <td>89382.0</td>\n      <td>21</td>\n      <td>18.0</td>\n      <td>35.0</td>\n    </tr>\n    <tr>\n      <th>...</th>\n      <td>...</td>\n      <td>...</td>\n      <td>...</td>\n      <td>...</td>\n      <td>...</td>\n      <td>...</td>\n      <td>...</td>\n      <td>...</td>\n    </tr>\n    <tr>\n      <th>1081</th>\n      <td>tt0114746</td>\n      <td>1995</td>\n      <td>True</td>\n      <td>129.0</td>\n      <td>599944.0</td>\n      <td>10</td>\n      <td>6.0</td>\n      <td>1.0</td>\n    </tr>\n    <tr>\n      <th>1082</th>\n      <td>tt1124052</td>\n      <td>2009</td>\n      <td>True</td>\n      <td>132.0</td>\n      <td>10817.0</td>\n      <td>22</td>\n      <td>1.0</td>\n      <td>1.0</td>\n    </tr>\n    <tr>\n      <th>1083</th>\n      <td>tt7897478</td>\n      <td>2018</td>\n      <td>False</td>\n      <td>113.0</td>\n      <td>2233.0</td>\n      <td>19</td>\n      <td>1.0</td>\n      <td>1.0</td>\n    </tr>\n    <tr>\n      <th>1084</th>\n      <td>tt2193364</td>\n      <td>2013</td>\n      <td>False</td>\n      <td>130.0</td>\n      <td>4561.0</td>\n      <td>18</td>\n      <td>0.0</td>\n      <td>1.0</td>\n    </tr>\n    <tr>\n      <th>1085</th>\n      <td>tt0051927</td>\n      <td>1958</td>\n      <td>False</td>\n      <td>111.0</td>\n      <td>1616.0</td>\n      <td>17</td>\n      <td>1.0</td>\n      <td>1.0</td>\n    </tr>\n  </tbody>\n</table>\n<p>1086 rows × 8 columns</p>\n</div>"
     },
     "execution_count": 286,
     "metadata": {},
     "output_type": "execute_result"
    }
   ],
   "source": [
    "test_data"
   ],
   "metadata": {
    "collapsed": false,
    "ExecuteTime": {
     "end_time": "2024-03-03T21:25:28.558463Z",
     "start_time": "2024-03-03T21:25:28.528833Z"
    }
   },
   "id": "7e687d838ac6430c"
  },
  {
   "cell_type": "markdown",
   "source": [
    "**imput missing values**"
   ],
   "metadata": {
    "collapsed": false
   },
   "id": "3d960ee075581efc"
  },
  {
   "cell_type": "code",
   "execution_count": 287,
   "outputs": [
    {
     "name": "stdout",
     "output_type": "stream",
     "text": [
      "<class 'pandas.core.frame.DataFrame'>\n",
      "RangeIndex: 1086 entries, 0 to 1085\n",
      "Data columns (total 8 columns):\n",
      " #   Column           Non-Null Count  Dtype  \n",
      "---  ------           --------------  -----  \n",
      " 0   tconst           1086 non-null   object \n",
      " 1   year             1086 non-null   int32  \n",
      " 2   foreign_movie    1086 non-null   bool   \n",
      " 3   runtimeMinutes   1085 non-null   float64\n",
      " 4   numVotes         967 non-null    float64\n",
      " 5   title_length     1086 non-null   int64  \n",
      " 6   n_successes_dir  1086 non-null   float64\n",
      " 7   n_successes_wri  1086 non-null   float64\n",
      "dtypes: bool(1), float64(4), int32(1), int64(1), object(1)\n",
      "memory usage: 56.3+ KB\n"
     ]
    }
   ],
   "source": [
    "test_data.info()"
   ],
   "metadata": {
    "collapsed": false,
    "ExecuteTime": {
     "end_time": "2024-03-03T21:25:30.141455Z",
     "start_time": "2024-03-03T21:25:30.109995Z"
    }
   },
   "id": "2de4e3fc054cce4a"
  },
  {
   "cell_type": "code",
   "execution_count": 288,
   "outputs": [],
   "source": [
    "from sklearn.impute import SimpleImputer\n",
    "import numpy as np"
   ],
   "metadata": {
    "collapsed": false,
    "ExecuteTime": {
     "end_time": "2024-03-03T21:25:31.043590Z",
     "start_time": "2024-03-03T21:25:31.016939Z"
    }
   },
   "id": "7a57643728d4bd21"
  },
  {
   "cell_type": "code",
   "execution_count": 289,
   "outputs": [],
   "source": [
    "imp_mean = SimpleImputer(missing_values=np.nan, strategy='mean')"
   ],
   "metadata": {
    "collapsed": false,
    "ExecuteTime": {
     "end_time": "2024-03-03T21:25:31.269176Z",
     "start_time": "2024-03-03T21:25:31.248546Z"
    }
   },
   "id": "22cf1461c51cadac"
  },
  {
   "cell_type": "code",
   "execution_count": 290,
   "outputs": [],
   "source": [
    "X_test = test_data.drop('tconst', axis=1).values"
   ],
   "metadata": {
    "collapsed": false,
    "ExecuteTime": {
     "end_time": "2024-03-03T21:25:31.429977Z",
     "start_time": "2024-03-03T21:25:31.413366Z"
    }
   },
   "id": "cb5293a4fd0a64fd"
  },
  {
   "cell_type": "code",
   "execution_count": 291,
   "outputs": [],
   "source": [
    "X_test = imp_mean.fit_transform(X_test)"
   ],
   "metadata": {
    "collapsed": false,
    "ExecuteTime": {
     "end_time": "2024-03-03T21:25:31.979589Z",
     "start_time": "2024-03-03T21:25:31.906064Z"
    }
   },
   "id": "180724bfa26d1822"
  },
  {
   "cell_type": "code",
   "execution_count": 292,
   "outputs": [],
   "source": [
    "y_pred = clf.predict(X_test)"
   ],
   "metadata": {
    "collapsed": false,
    "ExecuteTime": {
     "end_time": "2024-03-03T21:25:32.173278Z",
     "start_time": "2024-03-03T21:25:32.152062Z"
    }
   },
   "id": "c39eb6db63ff53d8"
  },
  {
   "cell_type": "code",
   "execution_count": 293,
   "outputs": [
    {
     "data": {
      "text/plain": "array([False, False, False, ...,  True, False,  True])"
     },
     "execution_count": 293,
     "metadata": {},
     "output_type": "execute_result"
    }
   ],
   "source": [
    "y_pred"
   ],
   "metadata": {
    "collapsed": false,
    "ExecuteTime": {
     "end_time": "2024-03-03T21:25:32.631883Z",
     "start_time": "2024-03-03T21:25:32.613751Z"
    }
   },
   "id": "3748ebc00d4ee70"
  },
  {
   "cell_type": "code",
   "execution_count": 294,
   "outputs": [],
   "source": [
    "Y = pd.DataFrame(y_pred)\n",
    "Y.to_csv(\"../predictions/test_hidden_martin.txt\", sep=\"\\t\", index=False)"
   ],
   "metadata": {
    "collapsed": false,
    "ExecuteTime": {
     "end_time": "2024-03-03T21:25:55.620053Z",
     "start_time": "2024-03-03T21:25:55.594945Z"
    }
   },
   "id": "813ba08fa4daf1bc"
  },
  {
   "cell_type": "code",
   "execution_count": 282,
   "outputs": [],
   "source": [
    "Y = pd.DataFrame(y_pred)\n",
    "Y.to_csv(\"../predictions/validation_hidden_martin.txt\", sep=\"\\t\", index=False)"
   ],
   "metadata": {
    "collapsed": false,
    "ExecuteTime": {
     "end_time": "2024-03-03T21:24:24.753735Z",
     "start_time": "2024-03-03T21:24:24.727062Z"
    }
   },
   "id": "b8fcf0cad66e9659"
  }
 ],
 "metadata": {
  "kernelspec": {
   "display_name": "Python 3",
   "language": "python",
   "name": "python3"
  },
  "language_info": {
   "codemirror_mode": {
    "name": "ipython",
    "version": 2
   },
   "file_extension": ".py",
   "mimetype": "text/x-python",
   "name": "python",
   "nbconvert_exporter": "python",
   "pygments_lexer": "ipython2",
   "version": "2.7.6"
  }
 },
 "nbformat": 4,
 "nbformat_minor": 5
}
